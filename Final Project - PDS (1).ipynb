{
 "cells": [
  {
   "cell_type": "markdown",
   "id": "560701d9",
   "metadata": {},
   "source": [
    "<div style=\"font-style: italic; text-align: center;\" markdown=\"1\">\n",
    "\n",
    "# Final Project: Wine Quality Prediction\n",
    "\n",
    "</div>\n",
    "\n",
    "<br>\n",
    "\n",
    "<br>\n",
    "\n",
    "<br>\n",
    "\n",
    "<br>\n",
    "\n",
    "<br>\n",
    "\n",
    "<br>\n",
    "\n",
    "<img src=\"https://www.wtso.com/blog/wp-content/uploads/2017/03/HowtoEvaluateQualityWine-CoverImage.jpg\" alt=\"How to Evaluate the Quality of a Wine - From The Vine\" width=\"500\" height=\"600\">\n",
    "\n",
    "<br>\n",
    "\n",
    "<br>\n",
    "\n",
    "<br>\n",
    "\n",
    "<br>\n",
    "\n",
    "<br>\n",
    "\n",
    "<br>\n",
    "\n",
    "<br>\n",
    "\n",
    "<div style=\"font-style: italic; text-align: center;\" markdown=\"1\">\n",
    "\n",
    "## Practical Data Science\n",
    "\n",
    "</div>\n",
    "\n",
    "\n",
    "<br>\n",
    "\n",
    "**Prepared by:** Ariadna Rezola, Daniëlle Kotter, Helena Bonnin, Sarah Musetti, & Benja Bohnke**\\\n",
    "Prepared for:** Alberto Santini**\\\n",
    "Program:** Msc in Management, Barcelona School of Management\\\n",
    "**Date:** 25th June 2021"
   ]
  },
  {
   "cell_type": "markdown",
   "id": "0d606827",
   "metadata": {},
   "source": [
    "#  Introduction to the data set & project\n",
    "\n",
    "**Predicting wine quality from its physiochemical characteristics:**\n",
    "\n",
    "Is there such a thing as a good wine and a bad wine?\n",
    "Many people think that, excluding particularly bad vinegar-like wines, there isn't much difference between your 15€ and your 60€ bottle.\n",
    "Blind wine tasting have cast much doubts on the ability of regular people and professional someliers alike to distinguish between wines of different quality.\n",
    "\n",
    "With this dataset, we will be trying to score wine quality based on objective physical and chemical characteristic of the beverage by the use of Machine Learning (ML) models. Thus, we will predict the quality of wine on the basis of given features. The dataset has the fundamental features which are responsible for affecting the quality of the wine.  Here, we will be dealing with the red type (wine sample from Portugal) wine quality, applying both regresion and classification techniques, testing if it is good or bad. \n",
    "\n",
    "**Features that will be used to classify the quality of wine**:\n",
    "\n",
    "*Input variables (based on physicochemical tests):*\n",
    "\n",
    "**Fixed acidity:** Also called nonvolatile acids, which include no smell. Almost all acids found in wine are fixed and originate in the grape’s juice. The fixed acids appear in the finished product and stay during fermentation. The most predominant ones are tartaric, malic, and citric. The different wines vary largely in their acid levels.\n",
    "\n",
    "**Volatile acidity:** a volatile acid evaporates quickly and measures the wine’s acids that are gaseous such as acetic acid. It can give wine an unpleasant taste and smell like vinegar when too high amounts are included (Wine acidity, n.d.).\n",
    "\n",
    "**Citric acid:** is added in wines to increase the acidity to create specific flavors as it impacts the wine’s taste and smell. It can be tasted as “freshness” (Acids, n.d.).\n",
    "\n",
    "**Residual sugar:** residual sugar is the sugar that does not convert into alcohol during the wine’s fermentation process (Residual Sugar, 2018). Red wines with a residual sugar level higher than 45 grams/liter are considered sweet (Frazier, n.d.).\n",
    "\n",
    "**Chlorides:** the concentration of chlorides in wine measures the amount of salt included. It is normally expressed as sodium chloride and it must not contain more than 1000mg/L. Generally, the quality’s wine perception decreases as chlorides increase. \n",
    "\n",
    "**Free sulfur dioxide:** it only includes the amount of free SO2 and is based on the pH of the wine. It is used as a preservative of the wine to prevent microbial spoilage and oxidation, 5ppm are needed.\n",
    "Total sulfur dioxide: short TSO2 is the amount of SO2 that is free plus the portion of bound SO2 to other chemicals (for example sugars) (Sulfur Dioxide, n.d.).\n",
    "\n",
    "**Density:** is explained by mass or weight per volume and it is determined by the level of alcohol, sugar and other dissolved solids included in the wine. With a higher density normally the quality’s perception level declines. \n",
    "\n",
    "**pH:** red wine generally is acidic but pH measures the ripeness of the grapes in relation to acidity in wines. Typically red wines range between 3 and 4, while the most desirable red wine is around 3.3 and 3.6 on the pH scale.\n",
    "\n",
    "**Sulfites:** used for wines as a food preservative to maintain the flavor and freshness. Red wines typically tend to have less sulfites than clear ones and include around 50mg/l sulfites. Lower acidity goes together with higher amounts of sulfites and vice versa. \n",
    "\n",
    "**Alcohol:** the alcohol level contained in wine, measured in percentages (Alcohol Content, n.d.).\n",
    "\n",
    "*Output variable (based on sensory data):*\n",
    "\n",
    "**Quality:** the quality of red wine is measured with a score between 0 and 10. It represents our dependent variable.\n",
    "\n",
    "Each sample was evaluated by a minimum of three sensory assessors (using blind tastes), who graded the wine in a scale that ranges from 0 (very bad) to 10 (excellent). The final sensory score is given by the median of these evaluations. "
   ]
  },
  {
   "cell_type": "markdown",
   "id": "7fe26511",
   "metadata": {},
   "source": [
    "## Loading Packages"
   ]
  },
  {
   "cell_type": "code",
   "execution_count": 1,
   "id": "957a863b",
   "metadata": {},
   "outputs": [],
   "source": [
    "# Basic packages\n",
    "import pandas as pd\n",
    "import numpy as np\n",
    "import matplotlib.pyplot as plt\n",
    "import seaborn as sns\n",
    "from matplotlib.pyplot import figure\n",
    "import os\n",
    "import warnings\n",
    "warnings.simplefilter(action='ignore', category=FutureWarning)"
   ]
  },
  {
   "cell_type": "code",
   "execution_count": 2,
   "id": "d25dd6c6",
   "metadata": {},
   "outputs": [],
   "source": [
    "# Model & validation packages\n",
    "from sklearn.model_selection import train_test_split\n",
    "from sklearn.linear_model import LinearRegression, Lasso\n",
    "from sklearn.preprocessing import StandardScaler, PolynomialFeatures # automatically takes into account standardization\n",
    "from sklearn.model_selection import GridSearchCV, ShuffleSplit\n",
    "from sklearn.pipeline import make_pipeline\n",
    "from sklearn.metrics import mean_squared_error\n",
    "from sklearn.model_selection import LeaveOneOut, cross_val_score\n",
    "from sklearn.model_selection import KFold"
   ]
  },
  {
   "cell_type": "markdown",
   "id": "8947c29f",
   "metadata": {},
   "source": [
    "## Importing data & exploration\n",
    "\n",
    "The first step is to do basic data exploration such as checking the descriptions of the data, how it looks like, the size, etc. Below the head of the data set can be found. "
   ]
  },
  {
   "cell_type": "code",
   "execution_count": 3,
   "id": "01926617",
   "metadata": {},
   "outputs": [
    {
     "data": {
      "text/html": [
       "<div>\n",
       "<style scoped>\n",
       "    .dataframe tbody tr th:only-of-type {\n",
       "        vertical-align: middle;\n",
       "    }\n",
       "\n",
       "    .dataframe tbody tr th {\n",
       "        vertical-align: top;\n",
       "    }\n",
       "\n",
       "    .dataframe thead th {\n",
       "        text-align: right;\n",
       "    }\n",
       "</style>\n",
       "<table border=\"1\" class=\"dataframe\">\n",
       "  <thead>\n",
       "    <tr style=\"text-align: right;\">\n",
       "      <th></th>\n",
       "      <th>fixed acidity</th>\n",
       "      <th>volatile acidity</th>\n",
       "      <th>citric acid</th>\n",
       "      <th>residual sugar</th>\n",
       "      <th>chlorides</th>\n",
       "      <th>free sulfur dioxide</th>\n",
       "      <th>total sulfur dioxide</th>\n",
       "      <th>density</th>\n",
       "      <th>pH</th>\n",
       "      <th>sulphates</th>\n",
       "      <th>alcohol</th>\n",
       "      <th>quality</th>\n",
       "    </tr>\n",
       "  </thead>\n",
       "  <tbody>\n",
       "    <tr>\n",
       "      <th>0</th>\n",
       "      <td>7.4</td>\n",
       "      <td>0.70</td>\n",
       "      <td>0.00</td>\n",
       "      <td>1.9</td>\n",
       "      <td>0.08</td>\n",
       "      <td>11.0</td>\n",
       "      <td>34.0</td>\n",
       "      <td>1.0</td>\n",
       "      <td>3.51</td>\n",
       "      <td>0.56</td>\n",
       "      <td>9.4</td>\n",
       "      <td>5</td>\n",
       "    </tr>\n",
       "    <tr>\n",
       "      <th>1</th>\n",
       "      <td>7.8</td>\n",
       "      <td>0.88</td>\n",
       "      <td>0.00</td>\n",
       "      <td>2.6</td>\n",
       "      <td>0.10</td>\n",
       "      <td>25.0</td>\n",
       "      <td>67.0</td>\n",
       "      <td>1.0</td>\n",
       "      <td>3.20</td>\n",
       "      <td>0.68</td>\n",
       "      <td>9.8</td>\n",
       "      <td>5</td>\n",
       "    </tr>\n",
       "    <tr>\n",
       "      <th>2</th>\n",
       "      <td>7.8</td>\n",
       "      <td>0.76</td>\n",
       "      <td>0.04</td>\n",
       "      <td>2.3</td>\n",
       "      <td>0.09</td>\n",
       "      <td>15.0</td>\n",
       "      <td>54.0</td>\n",
       "      <td>1.0</td>\n",
       "      <td>3.26</td>\n",
       "      <td>0.65</td>\n",
       "      <td>9.8</td>\n",
       "      <td>5</td>\n",
       "    </tr>\n",
       "    <tr>\n",
       "      <th>3</th>\n",
       "      <td>11.2</td>\n",
       "      <td>0.28</td>\n",
       "      <td>0.56</td>\n",
       "      <td>1.9</td>\n",
       "      <td>0.08</td>\n",
       "      <td>17.0</td>\n",
       "      <td>60.0</td>\n",
       "      <td>1.0</td>\n",
       "      <td>3.16</td>\n",
       "      <td>0.58</td>\n",
       "      <td>9.8</td>\n",
       "      <td>6</td>\n",
       "    </tr>\n",
       "    <tr>\n",
       "      <th>4</th>\n",
       "      <td>7.4</td>\n",
       "      <td>0.70</td>\n",
       "      <td>0.00</td>\n",
       "      <td>1.9</td>\n",
       "      <td>0.08</td>\n",
       "      <td>11.0</td>\n",
       "      <td>34.0</td>\n",
       "      <td>1.0</td>\n",
       "      <td>3.51</td>\n",
       "      <td>0.56</td>\n",
       "      <td>9.4</td>\n",
       "      <td>5</td>\n",
       "    </tr>\n",
       "  </tbody>\n",
       "</table>\n",
       "</div>"
      ],
      "text/plain": [
       "   fixed acidity  volatile acidity  citric acid  residual sugar  chlorides  \\\n",
       "0            7.4              0.70         0.00             1.9       0.08   \n",
       "1            7.8              0.88         0.00             2.6       0.10   \n",
       "2            7.8              0.76         0.04             2.3       0.09   \n",
       "3           11.2              0.28         0.56             1.9       0.08   \n",
       "4            7.4              0.70         0.00             1.9       0.08   \n",
       "\n",
       "   free sulfur dioxide  total sulfur dioxide  density    pH  sulphates  \\\n",
       "0                 11.0                  34.0      1.0  3.51       0.56   \n",
       "1                 25.0                  67.0      1.0  3.20       0.68   \n",
       "2                 15.0                  54.0      1.0  3.26       0.65   \n",
       "3                 17.0                  60.0      1.0  3.16       0.58   \n",
       "4                 11.0                  34.0      1.0  3.51       0.56   \n",
       "\n",
       "   alcohol  quality  \n",
       "0      9.4        5  \n",
       "1      9.8        5  \n",
       "2      9.8        5  \n",
       "3      9.8        6  \n",
       "4      9.4        5  "
      ]
     },
     "execution_count": 3,
     "metadata": {},
     "output_type": "execute_result"
    }
   ],
   "source": [
    "# Loading the data set + displaying head \n",
    "redwine = pd.read_csv('winequality-red.csv', sep=\";\")\n",
    "redwine.head().round(2)"
   ]
  },
  {
   "cell_type": "markdown",
   "id": "682f969b",
   "metadata": {},
   "source": [
    "Below it can be observed that we have a data set with 1599 observations. Whilst most variables are continous values, quality of wine is shown as being discrete. There are a total of 12 columns."
   ]
  },
  {
   "cell_type": "code",
   "execution_count": 4,
   "id": "ce3809f4",
   "metadata": {},
   "outputs": [
    {
     "name": "stdout",
     "output_type": "stream",
     "text": [
      "<class 'pandas.core.frame.DataFrame'>\n",
      "RangeIndex: 1599 entries, 0 to 1598\n",
      "Data columns (total 12 columns):\n",
      " #   Column                Non-Null Count  Dtype  \n",
      "---  ------                --------------  -----  \n",
      " 0   fixed acidity         1599 non-null   float64\n",
      " 1   volatile acidity      1599 non-null   float64\n",
      " 2   citric acid           1599 non-null   float64\n",
      " 3   residual sugar        1599 non-null   float64\n",
      " 4   chlorides             1599 non-null   float64\n",
      " 5   free sulfur dioxide   1599 non-null   float64\n",
      " 6   total sulfur dioxide  1599 non-null   float64\n",
      " 7   density               1599 non-null   float64\n",
      " 8   pH                    1599 non-null   float64\n",
      " 9   sulphates             1599 non-null   float64\n",
      " 10  alcohol               1599 non-null   float64\n",
      " 11  quality               1599 non-null   int64  \n",
      "dtypes: float64(11), int64(1)\n",
      "memory usage: 150.0 KB\n"
     ]
    }
   ],
   "source": [
    "# Type of variables, basic info\n",
    "redwine.info()"
   ]
  },
  {
   "cell_type": "markdown",
   "id": "73abb107",
   "metadata": {},
   "source": [
    "The next table displays basis statistics of each of the variables. We can already observe that quality has a minimum of 3.0 and a maximum of 8.0. The mean being 5.6. "
   ]
  },
  {
   "cell_type": "code",
   "execution_count": 5,
   "id": "5bcad02b",
   "metadata": {},
   "outputs": [
    {
     "data": {
      "text/html": [
       "<div>\n",
       "<style scoped>\n",
       "    .dataframe tbody tr th:only-of-type {\n",
       "        vertical-align: middle;\n",
       "    }\n",
       "\n",
       "    .dataframe tbody tr th {\n",
       "        vertical-align: top;\n",
       "    }\n",
       "\n",
       "    .dataframe thead th {\n",
       "        text-align: right;\n",
       "    }\n",
       "</style>\n",
       "<table border=\"1\" class=\"dataframe\">\n",
       "  <thead>\n",
       "    <tr style=\"text-align: right;\">\n",
       "      <th></th>\n",
       "      <th>fixed acidity</th>\n",
       "      <th>volatile acidity</th>\n",
       "      <th>citric acid</th>\n",
       "      <th>residual sugar</th>\n",
       "      <th>chlorides</th>\n",
       "      <th>free sulfur dioxide</th>\n",
       "      <th>total sulfur dioxide</th>\n",
       "      <th>density</th>\n",
       "      <th>pH</th>\n",
       "      <th>sulphates</th>\n",
       "      <th>alcohol</th>\n",
       "      <th>quality</th>\n",
       "    </tr>\n",
       "  </thead>\n",
       "  <tbody>\n",
       "    <tr>\n",
       "      <th>count</th>\n",
       "      <td>1599.0</td>\n",
       "      <td>1599.0</td>\n",
       "      <td>1599.0</td>\n",
       "      <td>1599.0</td>\n",
       "      <td>1599.0</td>\n",
       "      <td>1599.0</td>\n",
       "      <td>1599.0</td>\n",
       "      <td>1599.0</td>\n",
       "      <td>1599.0</td>\n",
       "      <td>1599.0</td>\n",
       "      <td>1599.0</td>\n",
       "      <td>1599.0</td>\n",
       "    </tr>\n",
       "    <tr>\n",
       "      <th>mean</th>\n",
       "      <td>8.3</td>\n",
       "      <td>0.5</td>\n",
       "      <td>0.3</td>\n",
       "      <td>2.5</td>\n",
       "      <td>0.1</td>\n",
       "      <td>15.9</td>\n",
       "      <td>46.5</td>\n",
       "      <td>1.0</td>\n",
       "      <td>3.3</td>\n",
       "      <td>0.7</td>\n",
       "      <td>10.4</td>\n",
       "      <td>5.6</td>\n",
       "    </tr>\n",
       "    <tr>\n",
       "      <th>std</th>\n",
       "      <td>1.7</td>\n",
       "      <td>0.2</td>\n",
       "      <td>0.2</td>\n",
       "      <td>1.4</td>\n",
       "      <td>0.0</td>\n",
       "      <td>10.5</td>\n",
       "      <td>32.9</td>\n",
       "      <td>0.0</td>\n",
       "      <td>0.2</td>\n",
       "      <td>0.2</td>\n",
       "      <td>1.1</td>\n",
       "      <td>0.8</td>\n",
       "    </tr>\n",
       "    <tr>\n",
       "      <th>min</th>\n",
       "      <td>4.6</td>\n",
       "      <td>0.1</td>\n",
       "      <td>0.0</td>\n",
       "      <td>0.9</td>\n",
       "      <td>0.0</td>\n",
       "      <td>1.0</td>\n",
       "      <td>6.0</td>\n",
       "      <td>1.0</td>\n",
       "      <td>2.7</td>\n",
       "      <td>0.3</td>\n",
       "      <td>8.4</td>\n",
       "      <td>3.0</td>\n",
       "    </tr>\n",
       "    <tr>\n",
       "      <th>25%</th>\n",
       "      <td>7.1</td>\n",
       "      <td>0.4</td>\n",
       "      <td>0.1</td>\n",
       "      <td>1.9</td>\n",
       "      <td>0.1</td>\n",
       "      <td>7.0</td>\n",
       "      <td>22.0</td>\n",
       "      <td>1.0</td>\n",
       "      <td>3.2</td>\n",
       "      <td>0.6</td>\n",
       "      <td>9.5</td>\n",
       "      <td>5.0</td>\n",
       "    </tr>\n",
       "    <tr>\n",
       "      <th>50%</th>\n",
       "      <td>7.9</td>\n",
       "      <td>0.5</td>\n",
       "      <td>0.3</td>\n",
       "      <td>2.2</td>\n",
       "      <td>0.1</td>\n",
       "      <td>14.0</td>\n",
       "      <td>38.0</td>\n",
       "      <td>1.0</td>\n",
       "      <td>3.3</td>\n",
       "      <td>0.6</td>\n",
       "      <td>10.2</td>\n",
       "      <td>6.0</td>\n",
       "    </tr>\n",
       "    <tr>\n",
       "      <th>75%</th>\n",
       "      <td>9.2</td>\n",
       "      <td>0.6</td>\n",
       "      <td>0.4</td>\n",
       "      <td>2.6</td>\n",
       "      <td>0.1</td>\n",
       "      <td>21.0</td>\n",
       "      <td>62.0</td>\n",
       "      <td>1.0</td>\n",
       "      <td>3.4</td>\n",
       "      <td>0.7</td>\n",
       "      <td>11.1</td>\n",
       "      <td>6.0</td>\n",
       "    </tr>\n",
       "    <tr>\n",
       "      <th>max</th>\n",
       "      <td>15.9</td>\n",
       "      <td>1.6</td>\n",
       "      <td>1.0</td>\n",
       "      <td>15.5</td>\n",
       "      <td>0.6</td>\n",
       "      <td>72.0</td>\n",
       "      <td>289.0</td>\n",
       "      <td>1.0</td>\n",
       "      <td>4.0</td>\n",
       "      <td>2.0</td>\n",
       "      <td>14.9</td>\n",
       "      <td>8.0</td>\n",
       "    </tr>\n",
       "  </tbody>\n",
       "</table>\n",
       "</div>"
      ],
      "text/plain": [
       "       fixed acidity  volatile acidity  citric acid  residual sugar  \\\n",
       "count         1599.0            1599.0       1599.0          1599.0   \n",
       "mean             8.3               0.5          0.3             2.5   \n",
       "std              1.7               0.2          0.2             1.4   \n",
       "min              4.6               0.1          0.0             0.9   \n",
       "25%              7.1               0.4          0.1             1.9   \n",
       "50%              7.9               0.5          0.3             2.2   \n",
       "75%              9.2               0.6          0.4             2.6   \n",
       "max             15.9               1.6          1.0            15.5   \n",
       "\n",
       "       chlorides  free sulfur dioxide  total sulfur dioxide  density      pH  \\\n",
       "count     1599.0               1599.0                1599.0   1599.0  1599.0   \n",
       "mean         0.1                 15.9                  46.5      1.0     3.3   \n",
       "std          0.0                 10.5                  32.9      0.0     0.2   \n",
       "min          0.0                  1.0                   6.0      1.0     2.7   \n",
       "25%          0.1                  7.0                  22.0      1.0     3.2   \n",
       "50%          0.1                 14.0                  38.0      1.0     3.3   \n",
       "75%          0.1                 21.0                  62.0      1.0     3.4   \n",
       "max          0.6                 72.0                 289.0      1.0     4.0   \n",
       "\n",
       "       sulphates  alcohol  quality  \n",
       "count     1599.0   1599.0   1599.0  \n",
       "mean         0.7     10.4      5.6  \n",
       "std          0.2      1.1      0.8  \n",
       "min          0.3      8.4      3.0  \n",
       "25%          0.6      9.5      5.0  \n",
       "50%          0.6     10.2      6.0  \n",
       "75%          0.7     11.1      6.0  \n",
       "max          2.0     14.9      8.0  "
      ]
     },
     "execution_count": 5,
     "metadata": {},
     "output_type": "execute_result"
    }
   ],
   "source": [
    "# Round table basic statistics\n",
    "redwine.describe().round(1)"
   ]
  },
  {
   "cell_type": "markdown",
   "id": "59cfc477",
   "metadata": {},
   "source": [
    "Next we count the amounts of NA's throughout each variables. We can see that in our dataset there are no missing values."
   ]
  },
  {
   "cell_type": "code",
   "execution_count": 6,
   "id": "63d81f47",
   "metadata": {},
   "outputs": [
    {
     "name": "stdout",
     "output_type": "stream",
     "text": [
      "fixed acidity           0\n",
      "volatile acidity        0\n",
      "citric acid             0\n",
      "residual sugar          0\n",
      "chlorides               0\n",
      "free sulfur dioxide     0\n",
      "total sulfur dioxide    0\n",
      "density                 0\n",
      "pH                      0\n",
      "sulphates               0\n",
      "alcohol                 0\n",
      "quality                 0\n",
      "dtype: int64\n"
     ]
    }
   ],
   "source": [
    "# Amount of NA values\n",
    "print(redwine.isnull().sum())"
   ]
  },
  {
   "cell_type": "markdown",
   "id": "215fd32a",
   "metadata": {},
   "source": [
    "Next we are checking for duplicates in the data."
   ]
  },
  {
   "cell_type": "code",
   "execution_count": 7,
   "id": "5a1d628f",
   "metadata": {},
   "outputs": [
    {
     "name": "stdout",
     "output_type": "stream",
     "text": [
      "      fixed acidity  volatile acidity  citric acid  residual sugar  chlorides  \\\n",
      "4               7.4             0.700         0.00            1.90      0.076   \n",
      "11              7.5             0.500         0.36            6.10      0.071   \n",
      "27              7.9             0.430         0.21            1.60      0.106   \n",
      "40              7.3             0.450         0.36            5.90      0.074   \n",
      "65              7.2             0.725         0.05            4.65      0.086   \n",
      "...             ...               ...          ...             ...        ...   \n",
      "1563            7.2             0.695         0.13            2.00      0.076   \n",
      "1564            7.2             0.695         0.13            2.00      0.076   \n",
      "1567            7.2             0.695         0.13            2.00      0.076   \n",
      "1581            6.2             0.560         0.09            1.70      0.053   \n",
      "1596            6.3             0.510         0.13            2.30      0.076   \n",
      "\n",
      "      free sulfur dioxide  total sulfur dioxide  density    pH  sulphates  \\\n",
      "4                    11.0                  34.0  0.99780  3.51       0.56   \n",
      "11                   17.0                 102.0  0.99780  3.35       0.80   \n",
      "27                   10.0                  37.0  0.99660  3.17       0.91   \n",
      "40                   12.0                  87.0  0.99780  3.33       0.83   \n",
      "65                    4.0                  11.0  0.99620  3.41       0.39   \n",
      "...                   ...                   ...      ...   ...        ...   \n",
      "1563                 12.0                  20.0  0.99546  3.29       0.54   \n",
      "1564                 12.0                  20.0  0.99546  3.29       0.54   \n",
      "1567                 12.0                  20.0  0.99546  3.29       0.54   \n",
      "1581                 24.0                  32.0  0.99402  3.54       0.60   \n",
      "1596                 29.0                  40.0  0.99574  3.42       0.75   \n",
      "\n",
      "      alcohol  quality  \n",
      "4         9.4        5  \n",
      "11       10.5        5  \n",
      "27        9.5        5  \n",
      "40       10.5        5  \n",
      "65       10.9        5  \n",
      "...       ...      ...  \n",
      "1563     10.1        5  \n",
      "1564     10.1        5  \n",
      "1567     10.1        5  \n",
      "1581     11.3        5  \n",
      "1596     11.0        6  \n",
      "\n",
      "[240 rows x 12 columns]\n"
     ]
    }
   ],
   "source": [
    "#Find duplicate rows based on all columns\n",
    "duplicates = redwine[redwine.duplicated(keep= 'first')]\n",
    "print(duplicates)"
   ]
  },
  {
   "cell_type": "markdown",
   "id": "0ad929bd",
   "metadata": {},
   "source": [
    "There are 240 duplicate rows found in our dataset that we will need to remove as they do not add any value to the study, and only increase the amount of data we have. Below we have removed the duplicate rows from our data set: redwine. Now there are 1359 observations total left. "
   ]
  },
  {
   "cell_type": "code",
   "execution_count": 8,
   "id": "d30d7ff2",
   "metadata": {},
   "outputs": [],
   "source": [
    "#If 'first' considers first value as unique and rest of the same values as duplicate\n",
    "redwine= redwine.drop_duplicates(keep='first')"
   ]
  },
  {
   "cell_type": "code",
   "execution_count": 9,
   "id": "fbe96c11",
   "metadata": {},
   "outputs": [
    {
     "data": {
      "text/plain": [
       "(1359, 12)"
      ]
     },
     "execution_count": 9,
     "metadata": {},
     "output_type": "execute_result"
    }
   ],
   "source": [
    "#Length after removing duplicates\n",
    "redwine.shape"
   ]
  },
  {
   "cell_type": "markdown",
   "id": "31a0aa14",
   "metadata": {},
   "source": [
    "## Data imputation\n",
    "\n",
    "The last step in preparing the data is through data imputation. Nevertheless, no data imputation technqiues are used in this case as there are no missing values in the dataframe."
   ]
  },
  {
   "cell_type": "markdown",
   "id": "f410afec",
   "metadata": {},
   "source": [
    "# Data Visualization\n",
    "\n",
    "The first aspect visualized is the distribution of quality. Not only we can now observe the min and max, it is also interesting to notice that the majority of the red wines are evaluated as either a 5 or a 6 quality wine."
   ]
  },
  {
   "cell_type": "code",
   "execution_count": 10,
   "id": "e2a3147e",
   "metadata": {},
   "outputs": [
    {
     "data": {
      "image/png": "[encoded data removed]",
      "text/plain": [
       "<Figure size 849.6x595.44 with 1 Axes>"
      ]
     },
     "metadata": {
      "needs_background": "light"
     },
     "output_type": "display_data"
    }
   ],
   "source": [
    "#Distribution of Quality\n",
    "dims=(11.8,8.27)\n",
    "fig, ax=plt.subplots(figsize=dims)\n",
    "Qualityhist=sns.distplot(redwine['quality'],color='c', hist= True, ax=ax)\n",
    "Qualityhist.set(title ='Distribution of Quality', xlabel='Quality')\n",
    "FigHist=Qualityhist.get_figure()"
   ]
  },
  {
   "cell_type": "markdown",
   "id": "b4234818",
   "metadata": {},
   "source": [
    "From the correlation matrix we can observe that the strongest linear correlation by quality are with volatile acidity and alcohol. Both relationships are low to moderate and whilst alcohol % has a positive linear effect on quality, volatile acidity has a negative effect. Very small association is found with residual sugar, residual sugar and pH. "
   ]
  },
  {
   "cell_type": "code",
   "execution_count": 11,
   "id": "f243782f",
   "metadata": {},
   "outputs": [
    {
     "data": {
      "image/png": "[encoded data removed]",
      "text/plain": [
       "<Figure size 3600x1440 with 2 Axes>"
      ]
     },
     "metadata": {
      "needs_background": "light"
     },
     "output_type": "display_data"
    }
   ],
   "source": [
    "# Correlation Matrix\n",
    "corr = redwine.corr()\n",
    "mask = np.triu(np.ones_like(corr, dtype = bool))\n",
    "\n",
    "plt.figure(figsize = (50,20))\n",
    "\n",
    "sns.heatmap(corr, mask = mask, cmap=plt.cm.RdYlGn, annot=True, fmt = '0.2g', linewidths=1, square=True, vmin=-1, vmax=1, annot_kws={\"size\":15}) # designed\n",
    "plt.show()"
   ]
  },
  {
   "cell_type": "code",
   "execution_count": 12,
   "id": "b1ffb490",
   "metadata": {},
   "outputs": [
    {
     "data": {
      "image/png": "[encoded data removed]",
      "text/plain": [
       "<Figure size 432x288 with 1 Axes>"
      ]
     },
     "metadata": {
      "needs_background": "light"
     },
     "output_type": "display_data"
    }
   ],
   "source": [
    "# Boxplots quality wine\n",
    "sns.boxplot(data=redwine, x='quality', y='alcohol')\n",
    "plt.title(\"Quality of wine vs alcohol level\");\n",
    "plt.show()"
   ]
  },
  {
   "cell_type": "markdown",
   "id": "1f631ce1",
   "metadata": {},
   "source": [
    "The boxplots highlights the importance of the alcohol component in red wine. For a low quality wine (5 or below) the level of alcohol is decreasing as the quality is increasing. From a 6 level quality on, instead, the level of alcohol is on average increasing. The jump in alcohol level from 5 to 6 seems to be relevant, marking a difference between \"good\" and \"poor\" wine."
   ]
  },
  {
   "cell_type": "code",
   "execution_count": 13,
   "id": "84ae5be8",
   "metadata": {},
   "outputs": [
    {
     "data": {
      "image/png": "[encoded data removed]",
      "text/plain": [
       "<Figure size 432x288 with 1 Axes>"
      ]
     },
     "metadata": {
      "needs_background": "light"
     },
     "output_type": "display_data"
    }
   ],
   "source": [
    "# Quality of wine vs Fixed Acidity\n",
    "sns.boxplot(data=redwine, x='quality', y='fixed acidity')\n",
    "plt.title(\"Quality of wine vs fixed acidity\");\n",
    "plt.show()"
   ]
  },
  {
   "cell_type": "markdown",
   "id": "9a9af7af",
   "metadata": {},
   "source": [
    "The level of tartness will vary depending upon the type of wine, with white wines having the most tartness and red wines not having as much tartness. Thus, it is not surprising that the level of acidity does not have a major impact on the quality of wine. The boxplots overlaps quite a lot, suggesting as well that the level of fixed acidity is not much dependent on the quality of red wine."
   ]
  },
  {
   "cell_type": "code",
   "execution_count": 14,
   "id": "f5a72ad4",
   "metadata": {},
   "outputs": [
    {
     "data": {
      "image/png": "[encoded data removed]",
      "text/plain": [
       "<Figure size 432x288 with 1 Axes>"
      ]
     },
     "metadata": {
      "needs_background": "light"
     },
     "output_type": "display_data"
    }
   ],
   "source": [
    "# Quality of wine vs Volatile acidity\n",
    "sns.boxplot(data=redwine, x='quality', y='volatile acidity')\n",
    "plt.title(\"Quality of wine vs volatile acidity\");\n",
    "plt.show()"
   ]
  },
  {
   "cell_type": "markdown",
   "id": "c86bc8cb",
   "metadata": {},
   "source": [
    "The volatile acidity measures the amount of acetic acid in wine. When the volatile acidity level is too high, the wine taste may become unpleasant and similar to the one of vinegar. \n",
    "The bpxplots suggests exactly this: on average, the better the quality, the lower is the volatile acidity level."
   ]
  },
  {
   "cell_type": "code",
   "execution_count": 15,
   "id": "fea95599",
   "metadata": {},
   "outputs": [
    {
     "data": {
      "image/png": "[encoded data removed]",
      "text/plain": [
       "<Figure size 432x288 with 1 Axes>"
      ]
     },
     "metadata": {
      "needs_background": "light"
     },
     "output_type": "display_data"
    }
   ],
   "source": [
    "# Quality of wine vs Ph\n",
    "sns.boxplot(data=redwine, x='quality', y='pH')\n",
    "plt.title(\"Quality of wine vs pH\");\n",
    "plt.show()"
   ]
  },
  {
   "cell_type": "markdown",
   "id": "a4e5a139",
   "metadata": {},
   "source": [
    "For red wines it is most desirable to be around 3.3 and 3.6 on the pH scale"
   ]
  },
  {
   "cell_type": "code",
   "execution_count": 16,
   "id": "9a25ca6e",
   "metadata": {},
   "outputs": [
    {
     "data": {
      "text/plain": [
       "<AxesSubplot:xlabel='residual sugar', ylabel='alcohol'>"
      ]
     },
     "execution_count": 16,
     "metadata": {},
     "output_type": "execute_result"
    },
    {
     "data": {
      "image/png": "[encoded data removed]",
      "text/plain": [
       "<Figure size 432x288 with 1 Axes>"
      ]
     },
     "metadata": {
      "needs_background": "light"
     },
     "output_type": "display_data"
    }
   ],
   "source": [
    "# Regression plot of residual sugar vs alcohol\n",
    "sns.regplot(x=\"residual sugar\",\n",
    "            y=\"alcohol\", \n",
    "            data=redwine)"
   ]
  },
  {
   "cell_type": "markdown",
   "id": "9c0f0a12",
   "metadata": {},
   "source": [
    "The sugar level is the main responsible for the percentage of alcohol in wine. Precisely, higher sugar levels produce higher alcohol. Additionally, warmer growing conditions could cause a higher and more rapid sugar accumulation that could potentially damage the flavour and taste of the wine. Thus, winemakers are left with the choice of a high alcohol or partly unripe grapes. \n",
    "It could be possible to reduce the alcohol level with modern techniques and equipment involving osmosis, but this would take away the natural process of wine production, damaging its raputation.\n",
    "\n",
    "Relevant for the study, is the residual sugars in wine. The residual sugars are those sugars that don't convert into alcohol and carbon dioxide in the process of wine fermentation. Generally speaking, the residual sugar content after fermentation is inversely proportionate to the alcohol level, suggesting that higher alcohol wines have less sugar and lower alcohol wines have more sugar. Differently from the expectations, the residual sugar and the alcohol level do not seem to be inversely proportionate, as the regression line suggests.\n",
    "\n",
    "**Plot 1: sulfite with quality (around 50mg/l best)**\n",
    "\n",
    "**Plot 2: densitiy and quality (density increases, quality declines)**\n",
    "\n",
    "**Plot 3: quality declines when chlorides, salt increases**"
   ]
  },
  {
   "cell_type": "code",
   "execution_count": 17,
   "id": "ea57276c",
   "metadata": {},
   "outputs": [
    {
     "data": {
      "image/png": "[encoded data removed]",
      "text/plain": [
       "<Figure size 432x288 with 1 Axes>"
      ]
     },
     "metadata": {
      "needs_background": "light"
     },
     "output_type": "display_data"
    }
   ],
   "source": [
    "# Quality of wine vs sulphite\n",
    "sns.boxplot(data=redwine, x='quality', y='sulphates')\n",
    "plt.title(\"Quality of wine vs sulfite\");\n",
    "plt.show()"
   ]
  },
  {
   "cell_type": "code",
   "execution_count": 18,
   "id": "3ddcc5e6",
   "metadata": {},
   "outputs": [
    {
     "data": {
      "image/png": "[encoded data removed]",
      "text/plain": [
       "<Figure size 432x288 with 1 Axes>"
      ]
     },
     "metadata": {
      "needs_background": "light"
     },
     "output_type": "display_data"
    }
   ],
   "source": [
    "# Quality of wine vs density\n",
    "sns.boxplot(data=redwine, x='quality', y='density')\n",
    "plt.title(\"Quality of wine vs density\");\n",
    "plt.show()"
   ]
  },
  {
   "cell_type": "code",
   "execution_count": 19,
   "id": "b0243df5",
   "metadata": {},
   "outputs": [
    {
     "data": {
      "image/png": "[encoded data removed]",
      "text/plain": [
       "<Figure size 432x288 with 1 Axes>"
      ]
     },
     "metadata": {
      "needs_background": "light"
     },
     "output_type": "display_data"
    }
   ],
   "source": [
    "# Quality of wine vs chlorides\n",
    "sns.boxplot(data=redwine, x='quality', y='chlorides')\n",
    "plt.title(\"Quality of wine vs chlorides\");\n",
    "plt.show()"
   ]
  },
  {
   "cell_type": "markdown",
   "id": "02d611ae",
   "metadata": {},
   "source": [
    "The last plot is the density plot of each variable in our data set. It appears that most variables are normally distributed."
   ]
  },
  {
   "cell_type": "code",
   "execution_count": 20,
   "id": "fe5cb1bd",
   "metadata": {},
   "outputs": [
    {
     "data": {
      "image/png": "[encoded data removed]",
      "text/plain": [
       "<Figure size 1800x1440 with 12 Axes>"
      ]
     },
     "metadata": {
      "needs_background": "light"
     },
     "output_type": "display_data"
    }
   ],
   "source": [
    "plt.figure(figsize = (25, 20))\n",
    "plotnumber = 1\n",
    "\n",
    "for col in redwine:\n",
    "    if plotnumber <= 12:\n",
    "        ax = plt.subplot(4, 3, plotnumber)\n",
    "        sns.distplot(redwine[col], color='red')\n",
    "        plt.xlabel(col, fontsize = 15)\n",
    "        \n",
    "    plotnumber += 1\n",
    "    \n",
    "plt.tight_layout()\n",
    "plt.show()"
   ]
  },
  {
   "cell_type": "markdown",
   "id": "1946c989",
   "metadata": {},
   "source": [
    "# Regression Method\n",
    "\n",
    "For the purpose of learning we used both regression and classification methods throughout this project. We first use the variable quality as if it were a continous variable and applied several regression models. These include:\n",
    "\n",
    "- Linear regression (no hyperparameters)\n",
    "- Quadratic regression (no hyperparameters)\n",
    "- Quadratic regression with LASSO (1 hyperparameter)"
   ]
  },
  {
   "cell_type": "code",
   "execution_count": 21,
   "id": "c1d4c5e9",
   "metadata": {},
   "outputs": [],
   "source": [
    "# Regression packages\n",
    "from sklearn.preprocessing import StandardScaler, PolynomialFeatures # automatically takes into account standardization\n",
    "from sklearn.model_selection import GridSearchCV, ShuffleSplit\n",
    "from sklearn.pipeline import Pipeline\n",
    "from sklearn.metrics import mean_squared_error\n",
    "from sklearn.linear_model import LinearRegression, Lasso"
   ]
  },
  {
   "cell_type": "markdown",
   "id": "b63cc945",
   "metadata": {},
   "source": [
    "## Preparing the data\n",
    "\n",
    "The initial step is through preparing the data by splitting into a training and test set. We use quality as our label and all the other variables as our features. "
   ]
  },
  {
   "cell_type": "code",
   "execution_count": 22,
   "id": "1a77a13e",
   "metadata": {},
   "outputs": [],
   "source": [
    "label = 'quality'\n",
    "features = [column for column in redwine.columns if column != label]"
   ]
  },
  {
   "cell_type": "code",
   "execution_count": 23,
   "id": "ea9aed29",
   "metadata": {},
   "outputs": [],
   "source": [
    "X = redwine[features]\n",
    "y = redwine[label]\n",
    "\n",
    "X_train, X_test, y_train, y_test = train_test_split(X, y, test_size=0.25, random_state=0)"
   ]
  },
  {
   "cell_type": "code",
   "execution_count": 24,
   "id": "eea25cfe",
   "metadata": {},
   "outputs": [
    {
     "data": {
      "text/plain": [
       "1359"
      ]
     },
     "execution_count": 24,
     "metadata": {},
     "output_type": "execute_result"
    }
   ],
   "source": [
    "len(X) # Size of the dataset"
   ]
  },
  {
   "cell_type": "code",
   "execution_count": 25,
   "id": "8c09ea43",
   "metadata": {},
   "outputs": [
    {
     "data": {
      "text/plain": [
       "1019"
      ]
     },
     "execution_count": 25,
     "metadata": {},
     "output_type": "execute_result"
    }
   ],
   "source": [
    "len(X_train) # Size of the training set"
   ]
  },
  {
   "cell_type": "code",
   "execution_count": 26,
   "id": "a5ec9a08",
   "metadata": {},
   "outputs": [
    {
     "data": {
      "text/plain": [
       "340"
      ]
     },
     "execution_count": 26,
     "metadata": {},
     "output_type": "execute_result"
    }
   ],
   "source": [
    "len(X_test) # Size of the test set (In this case 25% of the dataset)"
   ]
  },
  {
   "cell_type": "markdown",
   "id": "839e0ebe",
   "metadata": {},
   "source": [
    "## Creating the models"
   ]
  },
  {
   "cell_type": "code",
   "execution_count": 27,
   "id": "43e01b64",
   "metadata": {},
   "outputs": [],
   "source": [
    "# Linear regression\n",
    "linreg = make_pipeline(StandardScaler(), LinearRegression() \n",
    ")\n",
    "\n",
    "# Quadratic regression\n",
    "quadreg = make_pipeline(StandardScaler(), PolynomialFeatures(degree=2), \n",
    "LinearRegression() \n",
    ")\n",
    "\n",
    "# Quadratic regression with LASSO\n",
    "quadlasso_empty = make_pipeline(StandardScaler(), PolynomialFeatures(degree=2), \n",
    "Lasso(max_iter=10000)\n",
    ")"
   ]
  },
  {
   "cell_type": "markdown",
   "id": "64d0848b",
   "metadata": {},
   "source": [
    "## Hold out method"
   ]
  },
  {
   "cell_type": "code",
   "execution_count": 28,
   "id": "2294e8bb",
   "metadata": {},
   "outputs": [
    {
     "data": {
      "text/plain": [
       "Pipeline(steps=[('standardscaler', StandardScaler()),\n",
       "                ('linearregression', LinearRegression())])"
      ]
     },
     "execution_count": 28,
     "metadata": {},
     "output_type": "execute_result"
    }
   ],
   "source": [
    "linreg.fit(X_train, y_train) # fitting linear regression\n",
    "\n",
    "Pipeline(steps=[('standardscaler', StandardScaler()),\n",
    "                ('linearregression', LinearRegression())])"
   ]
  },
  {
   "cell_type": "code",
   "execution_count": 29,
   "id": "4033009d",
   "metadata": {},
   "outputs": [
    {
     "data": {
      "text/plain": [
       "Pipeline(steps=[('standardscaler', StandardScaler()),\n",
       "                ('polynomialfeatures', PolynomialFeatures()),\n",
       "                ('linearregression', LinearRegression())])"
      ]
     },
     "execution_count": 29,
     "metadata": {},
     "output_type": "execute_result"
    }
   ],
   "source": [
    "quadreg.fit(X_train, y_train) # fitting the quadratic regression\n",
    "Pipeline(steps=[('standardscaler', StandardScaler()),\n",
    "                ('polynomialfeatures', PolynomialFeatures()),\n",
    "                ('linearregression', LinearRegression())])"
   ]
  },
  {
   "cell_type": "code",
   "execution_count": 30,
   "id": "9e94bed9",
   "metadata": {},
   "outputs": [
    {
     "data": {
      "text/plain": [
       "{'memory': None,\n",
       " 'steps': [('standardscaler', StandardScaler()),\n",
       "  ('polynomialfeatures', PolynomialFeatures()),\n",
       "  ('lasso', Lasso(max_iter=10000))],\n",
       " 'verbose': False,\n",
       " 'standardscaler': StandardScaler(),\n",
       " 'polynomialfeatures': PolynomialFeatures(),\n",
       " 'lasso': Lasso(max_iter=10000),\n",
       " 'standardscaler__copy': True,\n",
       " 'standardscaler__with_mean': True,\n",
       " 'standardscaler__with_std': True,\n",
       " 'polynomialfeatures__degree': 2,\n",
       " 'polynomialfeatures__include_bias': True,\n",
       " 'polynomialfeatures__interaction_only': False,\n",
       " 'polynomialfeatures__order': 'C',\n",
       " 'lasso__alpha': 1.0,\n",
       " 'lasso__copy_X': True,\n",
       " 'lasso__fit_intercept': True,\n",
       " 'lasso__max_iter': 10000,\n",
       " 'lasso__normalize': False,\n",
       " 'lasso__positive': False,\n",
       " 'lasso__precompute': False,\n",
       " 'lasso__random_state': None,\n",
       " 'lasso__selection': 'cyclic',\n",
       " 'lasso__tol': 0.0001,\n",
       " 'lasso__warm_start': False}"
      ]
     },
     "execution_count": 30,
     "metadata": {},
     "output_type": "execute_result"
    }
   ],
   "source": [
    "quadlasso_empty.get_params() # tells us all the parameters that we have"
   ]
  },
  {
   "cell_type": "code",
   "execution_count": 31,
   "id": "fddee851",
   "metadata": {},
   "outputs": [],
   "source": [
    "grid = {'lasso__alpha': np.logspace(-3, 0, 20)}\n",
    "\n",
    "holdout = ShuffleSplit(test_size=.25, n_splits=1, random_state=0) # validation method holdout"
   ]
  },
  {
   "cell_type": "code",
   "execution_count": 32,
   "id": "484e3e2a",
   "metadata": {},
   "outputs": [
    {
     "data": {
      "text/plain": [
       "GridSearchCV(cv=ShuffleSplit(n_splits=1, random_state=0, test_size=0.25, train_size=None),\n",
       "             estimator=Pipeline(steps=[('standardscaler', StandardScaler()),\n",
       "                                       ('polynomialfeatures',\n",
       "                                        PolynomialFeatures()),\n",
       "                                       ('lasso', Lasso(max_iter=10000))]),\n",
       "             param_grid={'lasso__alpha': array([0.001     , 0.00143845, 0.00206914, 0.00297635, 0.00428133,\n",
       "       0.00615848, 0.00885867, 0.01274275, 0.01832981, 0.02636651,\n",
       "       0.0379269 , 0.05455595, 0.078476  , 0.11288379, 0.16237767,\n",
       "       0.23357215, 0.33598183, 0.48329302, 0.6951928 , 1.        ])},\n",
       "             scoring='neg_mean_squared_error')"
      ]
     },
     "execution_count": 32,
     "metadata": {},
     "output_type": "execute_result"
    }
   ],
   "source": [
    "quadlasso = GridSearchCV(estimator = quadlasso_empty, \n",
    "param_grid = grid, \n",
    "cv = holdout, \n",
    "scoring = 'neg_mean_squared_error' # negative to understand which is the best value\n",
    ")\n",
    "\n",
    "quadlasso.fit(X_train, y_train) #automatically refits"
   ]
  },
  {
   "cell_type": "markdown",
   "id": "d29cfed4",
   "metadata": {},
   "source": [
    "## Model Selection\n",
    "\n",
    "**Mean Squared Error Method**\n",
    "\n",
    "We used the mean square error as the criteria to choose the best model. The lowest MSE with the holdout method is given by the linear model. "
   ]
  },
  {
   "cell_type": "code",
   "execution_count": 33,
   "id": "865353ac",
   "metadata": {},
   "outputs": [
    {
     "data": {
      "text/plain": [
       "0.5245491730657459"
      ]
     },
     "execution_count": 33,
     "metadata": {},
     "output_type": "execute_result"
    }
   ],
   "source": [
    "mean_squared_error(y_test, linreg.predict(X_test))"
   ]
  },
  {
   "cell_type": "code",
   "execution_count": 34,
   "id": "4c63182c",
   "metadata": {},
   "outputs": [
    {
     "data": {
      "text/plain": [
       "0.5548862345080223"
      ]
     },
     "execution_count": 34,
     "metadata": {},
     "output_type": "execute_result"
    }
   ],
   "source": [
    "mean_squared_error(y_test, quadreg.predict(X_test))"
   ]
  },
  {
   "cell_type": "code",
   "execution_count": 35,
   "id": "76e4e404",
   "metadata": {},
   "outputs": [
    {
     "data": {
      "text/plain": [
       "0.5371462166877707"
      ]
     },
     "execution_count": 35,
     "metadata": {},
     "output_type": "execute_result"
    }
   ],
   "source": [
    "mean_squared_error(y_test, quadlasso.predict(X_test))"
   ]
  },
  {
   "cell_type": "markdown",
   "id": "e8d11601",
   "metadata": {},
   "source": [
    "### Fitting model on the entire data set"
   ]
  },
  {
   "cell_type": "code",
   "execution_count": 36,
   "id": "fcd1c732",
   "metadata": {},
   "outputs": [
    {
     "data": {
      "text/plain": [
       "Pipeline(steps=[('standardscaler', StandardScaler()),\n",
       "                ('linearregression', LinearRegression())])"
      ]
     },
     "execution_count": 36,
     "metadata": {},
     "output_type": "execute_result"
    }
   ],
   "source": [
    "winner =  linreg\n",
    "winner.fit(X, y)"
   ]
  },
  {
   "cell_type": "markdown",
   "id": "584d95d0",
   "metadata": {},
   "source": [
    "## K-Fold Cross validation\n",
    "\n",
    "Additionally k-fold cross validation is applied with k=5. Now the quadratic lasso model provides the lowerst MSE. Therefore, this is chosen as the winner."
   ]
  },
  {
   "cell_type": "code",
   "execution_count": 37,
   "id": "396e7c5e",
   "metadata": {},
   "outputs": [],
   "source": [
    "kfold = KFold(n_splits=5, shuffle=True, random_state=1)\n",
    "\n",
    "def get_mse(model):\n",
    "  mses = cross_val_score(estimator=model, X=X, y=y, cv=kfold, scoring='neg_mean_squared_error')\n",
    "  return np.average(-mses)"
   ]
  },
  {
   "cell_type": "code",
   "execution_count": 38,
   "id": "6fbe145f",
   "metadata": {},
   "outputs": [
    {
     "data": {
      "text/plain": [
       "0.4404396995102193"
      ]
     },
     "execution_count": 38,
     "metadata": {},
     "output_type": "execute_result"
    }
   ],
   "source": [
    "get_mse(linreg)"
   ]
  },
  {
   "cell_type": "code",
   "execution_count": 39,
   "id": "5cb6f7e5",
   "metadata": {},
   "outputs": [
    {
     "data": {
      "text/plain": [
       "0.4589389450483464"
      ]
     },
     "execution_count": 39,
     "metadata": {},
     "output_type": "execute_result"
    }
   ],
   "source": [
    "get_mse(quadreg)"
   ]
  },
  {
   "cell_type": "code",
   "execution_count": 40,
   "id": "c3a0439c",
   "metadata": {},
   "outputs": [],
   "source": [
    "grid = {'lasso__alpha': np.logspace(-3,0,4)}\n",
    "\n",
    "quadlasso = GridSearchCV(estimator=quadlasso_empty, \n",
    "                         param_grid=grid, \n",
    "                         cv=kfold, \n",
    "                         scoring='neg_mean_squared_error'\n",
    "                        )"
   ]
  },
  {
   "cell_type": "code",
   "execution_count": 41,
   "id": "bf00f010",
   "metadata": {},
   "outputs": [
    {
     "data": {
      "text/plain": [
       "0.42601516381346477"
      ]
     },
     "execution_count": 41,
     "metadata": {},
     "output_type": "execute_result"
    }
   ],
   "source": [
    "get_mse(quadlasso)"
   ]
  },
  {
   "cell_type": "markdown",
   "id": "849af5f9",
   "metadata": {},
   "source": [
    "### Fitting the model on the entire data set\n",
    "\n",
    "Therefore, the best parameter is calculated. This is suggested as $\\alpha$ = 0.01. In production, these cconditions are applied on a newly seen data set.  "
   ]
  },
  {
   "cell_type": "code",
   "execution_count": 42,
   "id": "b8d4da90",
   "metadata": {},
   "outputs": [
    {
     "data": {
      "text/plain": [
       "{'memory': None,\n",
       " 'steps': [('standardscaler', StandardScaler()),\n",
       "  ('polynomialfeatures', PolynomialFeatures()),\n",
       "  ('lasso', Lasso(max_iter=10000))],\n",
       " 'verbose': False,\n",
       " 'standardscaler': StandardScaler(),\n",
       " 'polynomialfeatures': PolynomialFeatures(),\n",
       " 'lasso': Lasso(max_iter=10000),\n",
       " 'standardscaler__copy': True,\n",
       " 'standardscaler__with_mean': True,\n",
       " 'standardscaler__with_std': True,\n",
       " 'polynomialfeatures__degree': 2,\n",
       " 'polynomialfeatures__include_bias': True,\n",
       " 'polynomialfeatures__interaction_only': False,\n",
       " 'polynomialfeatures__order': 'C',\n",
       " 'lasso__alpha': 1.0,\n",
       " 'lasso__copy_X': True,\n",
       " 'lasso__fit_intercept': True,\n",
       " 'lasso__max_iter': 10000,\n",
       " 'lasso__normalize': False,\n",
       " 'lasso__positive': False,\n",
       " 'lasso__precompute': False,\n",
       " 'lasso__random_state': None,\n",
       " 'lasso__selection': 'cyclic',\n",
       " 'lasso__tol': 0.0001,\n",
       " 'lasso__warm_start': False}"
      ]
     },
     "execution_count": 42,
     "metadata": {},
     "output_type": "execute_result"
    }
   ],
   "source": [
    "quadlasso_empty.get_params() \n",
    "quadlasso = GridSearchCV(estimator = quadlasso_empty, \n",
    "param_grid = grid, \n",
    "cv = LeaveOneOut(), \n",
    "scoring = 'neg_mean_squared_error' \n",
    ")\n",
    "\n",
    "quadlasso.fit(X_train, y_train) \n",
    "quadlasso_empty.get_params() "
   ]
  },
  {
   "cell_type": "code",
   "execution_count": 43,
   "id": "d5dfa772",
   "metadata": {},
   "outputs": [
    {
     "data": {
      "text/plain": [
       "{'lasso__alpha': 0.01}"
      ]
     },
     "execution_count": 43,
     "metadata": {},
     "output_type": "execute_result"
    }
   ],
   "source": [
    "quadlasso.best_params_"
   ]
  },
  {
   "cell_type": "code",
   "execution_count": 44,
   "id": "35406039",
   "metadata": {},
   "outputs": [
    {
     "data": {
      "text/plain": [
       "Pipeline(steps=[('standardscaler', StandardScaler()),\n",
       "                ('polynomialfeatures', PolynomialFeatures()),\n",
       "                ('lasso', Lasso(alpha=0.01, max_iter=10000))])"
      ]
     },
     "execution_count": 44,
     "metadata": {},
     "output_type": "execute_result"
    }
   ],
   "source": [
    "winner = quadlasso.best_estimator_ \n",
    "\n",
    "winner.fit(X, y)"
   ]
  },
  {
   "cell_type": "markdown",
   "id": "2a5bb31c",
   "metadata": {},
   "source": [
    "## Conclusions Regression Method\n",
    "\n",
    "For the Regression section, we created three models, Linear regression (no hyperparameters), Quadratic regression (no hyperparameters), and Quadratic regression with LASSO (1 hyperparameter). \n",
    "\n",
    "For the model selection we looked at the MSE using the Hold-out method:\n",
    "* Linear Regression = 0.5245\n",
    "* Quadratic Regression = 0.5548\n",
    "* Quadratic Regression with LASSO = 0.5371\n",
    "\n",
    "The lowest with the test-training split is MSE for the linear model.\n",
    "\n",
    "Moreover, we cross validated the regression models to find which algorithm works better. Regression models can be validated by looking at the Mean Squared Error (MSE). The less the MSE value the better the model works.\n",
    "\n",
    "K-Fold --> Performed with k=5, suggest the best model is the one that uses LASSO as regularisation method with hyperparameter 0.01.\n",
    "\n",
    "From the results above we can decide that Quadratic Regression with LASSO model works better than other models."
   ]
  },
  {
   "cell_type": "markdown",
   "id": "ddff9b36",
   "metadata": {},
   "source": [
    "# Classification method\n",
    "\n",
    "The following chapter applies classification modeling to the data throughout various methods. The goal of the analysis is to be able to correctly classify red wine quality depending on their objective physicochemical attributes.\n",
    "\n",
    "### Preparing the data\n",
    "\n",
    "Due to the size of the data, we felt comfortable splitting the data randomly into a 25% test set. After training the models on the training set, the quality score was predicted on the test set to avoid adopting noise into the model. Finally the accuracy was evaluated to determine which model would be the most applicable. "
   ]
  },
  {
   "cell_type": "code",
   "execution_count": 45,
   "id": "c51e272c",
   "metadata": {},
   "outputs": [],
   "source": [
    "# Loading Packages Classification method\n",
    "from sklearn.ensemble import RandomForestClassifier, GradientBoostingClassifier\n",
    "from sklearn.tree import DecisionTreeClassifier\n",
    "from sklearn.datasets import load_digits\n",
    "from sklearn.model_selection import train_test_split\n",
    "from sklearn.multiclass import OneVsOneClassifier, OneVsRestClassifier\n",
    "from sklearn.metrics import f1_score\n",
    "from sklearn.linear_model import LogisticRegression\n",
    "from sklearn.preprocessing import StandardScaler, LabelEncoder\n",
    "from sklearn.metrics import confusion_matrix, classification_report\n",
    "from sklearn.svm import SVC\n",
    "from imblearn.over_sampling import SMOTE\n",
    "from sklearn.neighbors import KNeighborsClassifier\n",
    "import collections\n",
    "from sklearn.decomposition import PCA\n",
    "from sklearn.metrics import classification_report, confusion_matrix, accuracy_score\n",
    "from sklearn.neighbors import KNeighborsClassifier\n",
    "from sklearn.metrics import plot_confusion_matrix"
   ]
  },
  {
   "cell_type": "code",
   "execution_count": 46,
   "id": "314c2951",
   "metadata": {},
   "outputs": [
    {
     "data": {
      "text/plain": [
       "1599"
      ]
     },
     "execution_count": 46,
     "metadata": {},
     "output_type": "execute_result"
    }
   ],
   "source": [
    "redwine = pd.read_csv('winequality-red.csv', sep=\";\")\n",
    "redwine.head()\n",
    "redwine.quality.size"
   ]
  },
  {
   "cell_type": "markdown",
   "id": "c5442886",
   "metadata": {},
   "source": [
    "## Multi-class classification\n",
    "\n",
    "\n",
    "Considering there are more than two label outcomes, a multi-class classification is required where the classification ranges from y[0,1......10]. Most models only support binary classification requiring transformation of models to support multi-class classifiers. Two examples are the 1-vs1 1-vs-rest method and 1-vs-1. Only feasible if the number of classes are not extreme. \n",
    "\n",
    "The method used for validation of the models is the K-fold cross-validation. Whilst accounting for computational time and aiming for low bias, the amount of iteration chosen was 10 as empirically, there is already a high likelihood of accuracy. \n",
    "\n",
    "Again, the label is classified as wine quality and the features applied are all of the other variables in our data set."
   ]
  },
  {
   "cell_type": "code",
   "execution_count": 47,
   "id": "6e675fb9",
   "metadata": {},
   "outputs": [],
   "source": [
    "label = 'quality'\n",
    "features = [column for column in redwine.columns if column != label]\n",
    "\n",
    "X = redwine[features]\n",
    "y = redwine[label]\n",
    "\n",
    "X_train, X_test, y_train, y_test = train_test_split(X, y, test_size=0.25, random_state=206, stratify=y)"
   ]
  },
  {
   "cell_type": "markdown",
   "id": "74933fc8",
   "metadata": {},
   "source": [
    "## Building the models\n",
    "\n",
    "In order to optimize the accuracy of our predictions, we used several different models. These include:\n",
    "\n",
    "- **Multinomial Logistic regression** is an extension of logistic regression that predicts a multinomial probability. For this model, the solver used is the “Lbfgs” which means that it can handle multinomial loss. Besides, the maximum number of iterations taken for the solvers to converge is defined in 1000 and random state 0, meaning that when validating the processing over multiple runs of the code, we will use the same value. Finally, regarding the parameters of the model, we use numpy.logspace, which will return 25 numbers spaced on a log scale that starts on -3 and ends 0.\n",
    "<br>\n",
    "<br>\n",
    "- **1-vs-1 Logistic regression:** consists in adapting logistic regression to multi-class classification problems by creating as many models as class pairs, and each model predicts which class an observation is more likely to belong to. This method allows the binary classifiers to be of any type. However, if there are many classes this will mean huge computational work. In our case, with 10 types the number of classifiers was ${10 \\choose 2}$.In this case, we use the same model specifications as in the Multinomial Logistic regression. \n",
    "<br>\n",
    "<br>\n",
    "- **1-vs-Rest Logistic regression:** is another possibility to adapt binary logistic regression to multi-class classification. In this case, it needs as many models as there are classes, and each model predicts the probability of an observation to belong to a specific class or not. The advantage of this model is that it only needs n classifiers (10 in this occasion) and that the estimators are more precise than the previous case. \n",
    "<br>\n",
    "<br>\n",
    "- **Decision tree classifier:** is a non-parametric supervised learning method that consists in dividing the inputs into smaller decision rules to create a model that predicts the value of a target variable. The leaves of the tree represent class labels and branches represent conjunctions of features that lead to those class labels. It has many advantages including little preparation of the data and very simple to understand and to interpret. The max_depth parameter specifies the maximum depth of each tree. In this case is defined as follows: [8,16,24,32]\n",
    "<br>\n",
    "<br>\n",
    "- **Random Forest:** approach is like the decision tree but includes some randomness, resulting in a population of individual decision trees that are trained independently to one another and therefore remain uncorrelated (Ho, 2002). Finally, the classification is obtained by doing the average of all the results of the members of the forest.  The random state has been defined as 0 and in the parameters definition. The n_estimators parameter specifies the number of trees in the forest of the model. The value for this parameter is defined in [20, 50, 100, 200, 400] which means that 20/50/100/200/400 different decision trees will be constructed in the random forest. \n",
    "<br>\n",
    "<br>\n",
    "- **Support vector classifier:** is a generalization of the maximal margin classifier, which allows some points to be misclassified in the training set and stills creates a linear variety. The misclassification permitted is defined with a hyperparameter called “Budget”. In our model, we train SVC with the Radial Basis Function (RBF) kernel, thus two parameters must be considered: C(Budget) and gamma. A low C makes the decision surface smooth, while a high C aims at classifying all training examples correctly. The gamma defines how much influence a single training example has. To make the proper choice we should use the GridSearchCV."
   ]
  },
  {
   "cell_type": "markdown",
   "id": "f46ca0a4",
   "metadata": {},
   "source": [
    "### Hyperparameter tuning\n",
    "\n",
    "Primarily we use hyperparameter tuning for the Support Vector Classification model. This suggests that the optimal value for C=2.7 (the amount of missclassifications allowed. Moreover, gamma is 1.0. These values are applied in the K-fold cross validation and each model is evaluated on its F1 score, ultimately selecting the best model."
   ]
  },
  {
   "cell_type": "code",
   "execution_count": 48,
   "id": "d56a4acc",
   "metadata": {},
   "outputs": [
    {
     "data": {
      "text/plain": [
       "SVC(C=2.6826957952797246, gamma=1.0)"
      ]
     },
     "execution_count": 48,
     "metadata": {},
     "output_type": "execute_result"
    }
   ],
   "source": [
    "svc = make_pipeline(\n",
    "  StandardScaler(),\n",
    "  GridSearchCV(\n",
    "    estimator=SVC(kernel=\"rbf\"),\n",
    "    param_grid={\n",
    "      \"C\": np.logspace(-3, 3, 15),\n",
    "      \"gamma\": np.logspace(-3,3,15)\n",
    "    },\n",
    "    cv=kfold,\n",
    "    scoring = 'f1_micro',\n",
    "    n_jobs=4\n",
    "  )\n",
    ")\n",
    "\n",
    "svc.fit(X_train, y_train)\n",
    "\n",
    "svc[1].best_estimator_"
   ]
  },
  {
   "cell_type": "code",
   "execution_count": 49,
   "id": "a7ce7103",
   "metadata": {},
   "outputs": [],
   "source": [
    "models = [\n",
    "    {\n",
    "        'name': 'Multinomial Logistic Regression',\n",
    "        'model': LogisticRegression(multi_class='multinomial', solver='lbfgs', max_iter = 1000, random_state=0),\n",
    "        'params': {\n",
    "            'C': np.logspace(-3, 0, 25)\n",
    "        }\n",
    "    },\n",
    "    {\n",
    "        'name': 'OnevsOne LogReg',\n",
    "        'model': OneVsOneClassifier(LogisticRegression(solver='lbfgs', max_iter=1000, random_state=0)),\n",
    "        'params': {\n",
    "        }\n",
    "    },\n",
    "    {\n",
    "        'name': 'OnevsRest LogReg',\n",
    "        'model': OneVsRestClassifier(LogisticRegression(solver='lbfgs', max_iter=1000, random_state=0)),\n",
    "        'params': {\n",
    "        }\n",
    "    },\n",
    "    {\n",
    "        'name' : 'Decision Tree Classifier',\n",
    "        'model' : DecisionTreeClassifier(random_state=0),\n",
    "        'params' : {\n",
    "            'max_depth' : [8,16,24,32]\n",
    "        }\n",
    "    },\n",
    "    {\n",
    "        'name': 'Random Forest',\n",
    "        'model': RandomForestClassifier(random_state=0),\n",
    "        'params': {\n",
    "            'n_estimators': [20, 50, 100, 200, 400]\n",
    "        }\n",
    "    },\n",
    "    {\n",
    "        'name': 'SVC',\n",
    "        'model': SVC(random_state=0,C=2.7, kernel='rbf', degree=3,gamma = 1),\n",
    "        'params': {\n",
    "        }\n",
    "    }\n",
    "]"
   ]
  },
  {
   "cell_type": "code",
   "execution_count": 50,
   "id": "f69907be",
   "metadata": {},
   "outputs": [],
   "source": [
    "kfold = KFold(n_splits=10, shuffle=True, random_state=42)\n",
    "\n",
    "for m in models:\n",
    "    pipeline = make_pipeline(\n",
    "        StandardScaler(),\n",
    "        GridSearchCV(\n",
    "            estimator=m['model'],\n",
    "            param_grid=m['params'],\n",
    "            scoring='f1_micro',\n",
    "            n_jobs=-1,\n",
    "            cv=kfold\n",
    "        )\n",
    "    )\n",
    "    pipeline.fit(X_train, y_train)\n",
    "    predictions = pipeline.predict(X_test)\n",
    "    m['score'] = f1_score(y_test, predictions, average='micro')\n",
    "    m['pipeline'] = pipeline"
   ]
  },
  {
   "cell_type": "markdown",
   "id": "03ef1558",
   "metadata": {},
   "source": [
    "### F1 score\n",
    "After fitting the models on the training data, the F1 scores are compared to define which model should be adopted. The F1 score accounts for both the precision and the recall of the model.  Below is an overview of the F1 scores:"
   ]
  },
  {
   "cell_type": "code",
   "execution_count": 51,
   "id": "93329a8a",
   "metadata": {},
   "outputs": [
    {
     "name": "stdout",
     "output_type": "stream",
     "text": [
      "The F1 scores of the models are provided found through K-Vold Validation\n",
      "Model: Multinomial Logistic Regression: score = 0.618\n",
      "Model: OnevsOne LogReg: score = 0.618\n",
      "Model: OnevsRest LogReg: score = 0.627\n",
      "Model: Decision Tree Classifier: score = 0.605\n",
      "Model: Random Forest: score = 0.665\n",
      "Model: SVC: score = 0.627\n"
     ]
    }
   ],
   "source": [
    "print('The F1 scores of the models are provided found through K-Vold Validation')\n",
    "\n",
    "for m in models:\n",
    "    print(f\"Model: {m['name']}: score = {m['score']:.3f}\")"
   ]
  },
  {
   "cell_type": "markdown",
   "id": "d24ad3bc",
   "metadata": {},
   "source": [
    "The higest F1 score is given by the model: Random forest. Therefore, we further investigate the accuracy of this model. The classification report and confusion matrix are printed. "
   ]
  },
  {
   "cell_type": "code",
   "execution_count": 52,
   "id": "3fb7472f",
   "metadata": {},
   "outputs": [
    {
     "name": "stdout",
     "output_type": "stream",
     "text": [
      "              precision    recall  f1-score   support\n",
      "\n",
      "           3       1.00      0.00      0.00         2\n",
      "           4       0.00      0.00      0.00        13\n",
      "           5       0.77      0.81      0.79       170\n",
      "           6       0.65      0.74      0.69       160\n",
      "           7       0.66      0.46      0.54        50\n",
      "           8       0.00      0.00      0.00         5\n",
      "\n",
      "    accuracy                           0.70       400\n",
      "   macro avg       0.51      0.33      0.34       400\n",
      "weighted avg       0.67      0.70      0.68       400\n",
      "\n",
      "<sklearn.metrics._plot.confusion_matrix.ConfusionMatrixDisplay object at 0x7fb2d822a430>\n"
     ]
    },
    {
     "data": {
      "image/png": "[encoded data removed]",
      "text/plain": [
       "<Figure size 432x288 with 2 Axes>"
      ]
     },
     "metadata": {
      "needs_background": "light"
     },
     "output_type": "display_data"
    }
   ],
   "source": [
    "rfc = RandomForestClassifier(n_estimators=200)\n",
    "rfc.fit(X_train, y_train)\n",
    "pred_rfc = rfc.predict(X_test)\n",
    "print(classification_report(y_test, pred_rfc, zero_division=1))\n",
    "print(plot_confusion_matrix(rfc, X_test, y_test, cmap=\"Greens\"))"
   ]
  },
  {
   "cell_type": "markdown",
   "id": "465606c7",
   "metadata": {},
   "source": [
    "The confusion matrix compares the true label with the predicted labels displaying not only the model accuracy but also giving input into the fall out and miss rates. To provide an example, the model classified most as the wines having a quality score of 5 & 6. Moreover, it wasn’t able to predict the wines with the lowest quality score, 3 & 4 well. "
   ]
  },
  {
   "cell_type": "markdown",
   "id": "b041e947",
   "metadata": {},
   "source": [
    "### Fitting the model on the entire data set\n",
    "\n",
    "After fitting the model on the training set, the next step is to rerun the model on the entire data set. "
   ]
  },
  {
   "cell_type": "code",
   "execution_count": 53,
   "id": "a5d247a9",
   "metadata": {},
   "outputs": [
    {
     "data": {
      "text/plain": [
       "RandomForestClassifier(bootstrap=False, max_depth=20, min_samples_leaf=4,\n",
       "                       min_samples_split=5, n_estimators=600, random_state=0)"
      ]
     },
     "execution_count": 53,
     "metadata": {},
     "output_type": "execute_result"
    }
   ],
   "source": [
    "winner = RandomForestClassifier(random_state=0, n_estimators=600, min_samples_split=5, min_samples_leaf=4, max_features='auto', max_depth=20, bootstrap=False)\n",
    "winner.fit(X, y)"
   ]
  },
  {
   "cell_type": "markdown",
   "id": "2583cdc6",
   "metadata": {},
   "source": [
    "## Binary Classification\n",
    "\n",
    "Throughout the multi-class classification, we can observe again the obstacle of the unbalanced labels. Hereby most wines obtained a quality score of 5 or 6. Moreover, there were no wines that received a score of below 3 or above 8. It suggests that the experts profiling the wines based on blind tasting did not give extreme scores."
   ]
  },
  {
   "cell_type": "code",
   "execution_count": 54,
   "id": "e3b3af26",
   "metadata": {},
   "outputs": [
    {
     "data": {
      "image/png": "[encoded data removed]",
      "text/plain": [
       "<Figure size 504x360 with 1 Axes>"
      ]
     },
     "metadata": {
      "needs_background": "light"
     },
     "output_type": "display_data"
    }
   ],
   "source": [
    "# visualizing skewness\n",
    "ax = redwine[\"quality\"].value_counts().plot.bar(figsize=(7,5))\n",
    "for p in ax.patches:\n",
    "    ax.annotate(str(p.get_height()), (p.get_x() * 1.02, p.get_height() * 1.02))"
   ]
  },
  {
   "cell_type": "markdown",
   "id": "e3aa5587",
   "metadata": {},
   "source": [
    "Subsequently, instead of trying to predict the discrete scoring, we aimed to answer the project question directly: \"is there such a thing as a good wine and a bad wine?\" Hereby we considered \"bad\" wines those that received a score below 6.5. Moreover, \"good\" wines for the purpose of the analysis are considered those above 6.5."
   ]
  },
  {
   "cell_type": "markdown",
   "id": "a1cd537b",
   "metadata": {},
   "source": [
    "## Threshold quality > 6.5"
   ]
  },
  {
   "cell_type": "code",
   "execution_count": 55,
   "id": "25256573",
   "metadata": {},
   "outputs": [],
   "source": [
    "redwine = pd.read_csv('winequality-red.csv', sep=\";\")\n",
    "# Making binary classification for the response variable.\n",
    "# Dividing wine as good and bad by giving the limit for the quality\n",
    "bins = (2, 6.5, 8)\n",
    "class_names = ['bad', 'good']\n",
    "redwine['quality'] = pd.cut(redwine['quality'], bins = bins, labels = class_names)"
   ]
  },
  {
   "cell_type": "code",
   "execution_count": 56,
   "id": "d570eb23",
   "metadata": {},
   "outputs": [],
   "source": [
    "label = 'quality'\n",
    "features = [column for column in redwine.columns if column != label]\n",
    "\n",
    "X = redwine[features]\n",
    "y = redwine[label]\n",
    "\n",
    "X_train, X_test, y_train, y_test = train_test_split(X, y, test_size=0.25, random_state=206, stratify=y)"
   ]
  },
  {
   "cell_type": "code",
   "execution_count": 57,
   "id": "85724f83",
   "metadata": {},
   "outputs": [
    {
     "name": "stdout",
     "output_type": "stream",
     "text": [
      "Training size: 13189, Testing size: 4400\n"
     ]
    }
   ],
   "source": [
    "print('Training size: {}, Testing size: {}'.format(X_train.size,X_test.size))"
   ]
  },
  {
   "cell_type": "code",
   "execution_count": 58,
   "id": "f07d1a9a",
   "metadata": {},
   "outputs": [],
   "source": [
    "label_quality = LabelEncoder()\n",
    "\n",
    "#Bad becomes 0 and good becomes 1 \n",
    "redwine['quality'] = label_quality.fit_transform(redwine['quality'])"
   ]
  },
  {
   "cell_type": "markdown",
   "id": "306d4d89",
   "metadata": {},
   "source": [
    "As can be seen by the graph below, when using the quality > 6.5, the data set is extremely unbalanced. The sample is unbalanced because there are much more bad wines than good wines. Therefore, this is smoothed out by a function called SMOTE. This is using oversampling by making copies of the minority class."
   ]
  },
  {
   "cell_type": "code",
   "execution_count": 59,
   "id": "fdad53c7",
   "metadata": {},
   "outputs": [
    {
     "data": {
      "text/plain": [
       "<AxesSubplot:xlabel='quality', ylabel='count'>"
      ]
     },
     "execution_count": 59,
     "metadata": {},
     "output_type": "execute_result"
    },
    {
     "data": {
      "image/png": "[encoded data removed]",
      "text/plain": [
       "<Figure size 432x288 with 1 Axes>"
      ]
     },
     "metadata": {
      "needs_background": "light"
     },
     "output_type": "display_data"
    }
   ],
   "source": [
    "sns.countplot(redwine['quality'])"
   ]
  },
  {
   "cell_type": "code",
   "execution_count": 60,
   "id": "d104c63a",
   "metadata": {},
   "outputs": [],
   "source": [
    "#!pip install imblearn\n",
    "sm = SMOTE(random_state=14)\n",
    "X_train_sm, y_train_sm = sm.fit_resample(X_train, y_train)"
   ]
  },
  {
   "cell_type": "code",
   "execution_count": 61,
   "id": "79751287",
   "metadata": {},
   "outputs": [
    {
     "name": "stdout",
     "output_type": "stream",
     "text": [
      "Before smote -->  Counter({'bad': 1036, 'good': 163})\n",
      "After smote -->  Counter({'bad': 1036, 'good': 1036})\n"
     ]
    }
   ],
   "source": [
    "print(\"Before smote --> \", collections.Counter(y_train))\n",
    "print(\"After smote --> \", collections.Counter(y_train_sm))"
   ]
  },
  {
   "cell_type": "code",
   "execution_count": 62,
   "id": "27b2ac13",
   "metadata": {},
   "outputs": [],
   "source": [
    "scaler = StandardScaler()\n",
    "X_train_sm = scaler.fit_transform(X_train_sm) \n",
    "X_test = scaler.transform(X_test) \n",
    "\n",
    "results = []"
   ]
  },
  {
   "cell_type": "markdown",
   "id": "c2d8352f",
   "metadata": {},
   "source": [
    "### Random forest classifier\n",
    "\n",
    "After transforming the training set by balancing negative and positive value, we analyse the randomforrest model using only the holdout method. "
   ]
  },
  {
   "cell_type": "code",
   "execution_count": 63,
   "id": "d70fd74d",
   "metadata": {},
   "outputs": [
    {
     "name": "stdout",
     "output_type": "stream",
     "text": [
      "              precision    recall  f1-score   support\n",
      "\n",
      "         bad       0.95      0.91      0.93       346\n",
      "        good       0.57      0.72      0.63        54\n",
      "\n",
      "    accuracy                           0.89       400\n",
      "   macro avg       0.76      0.82      0.78       400\n",
      "weighted avg       0.90      0.89      0.89       400\n",
      "\n",
      "<sklearn.metrics._plot.confusion_matrix.ConfusionMatrixDisplay object at 0x7fb2d81a8340>\n"
     ]
    },
    {
     "data": {
      "image/png": "[encoded data removed]",
      "text/plain": [
       "<Figure size 432x288 with 2 Axes>"
      ]
     },
     "metadata": {
      "needs_background": "light"
     },
     "output_type": "display_data"
    }
   ],
   "source": [
    "rfc = RandomForestClassifier(n_estimators=200)\n",
    "rfc.fit(X_train_sm, y_train_sm)\n",
    "pred_rfc = rfc.predict(X_test)\n",
    "print(classification_report(y_test, pred_rfc))\n",
    "print(plot_confusion_matrix(rfc, X_test, y_test, cmap=\"Greens\"))"
   ]
  },
  {
   "cell_type": "markdown",
   "id": "c2aa915a",
   "metadata": {},
   "source": [
    "The confusion matrix when quality > 6.5 for good wines can be seen above. As we can observe, there are 320 true negative, which means that there are 314 predicted bad wines that are also really bad wines. However, there are only 39 True positives which means that 39 outcomes the model has correctly predicted the positive class and 32 False positives. Thus, we can conclude that using this division, we will be able to predict a bad wine very well, but not the good ones. Here we should consider whether it is more costly to make a mistake in a false positive vs false negative to decide if the model is good enough for us. Looking at the accuracy (# times the model is correct / number of predictions) we observe that the weighted avg is 90%"
   ]
  },
  {
   "cell_type": "markdown",
   "id": "e279785b",
   "metadata": {},
   "source": [
    "### Parameter tuning"
   ]
  },
  {
   "cell_type": "markdown",
   "id": "90a62c7d",
   "metadata": {},
   "source": [
    "### Support vector classification\n",
    "\n",
    "Next the support vector classification model is ran without cross validation in order to find the best parameters and kernal state. "
   ]
  },
  {
   "cell_type": "code",
   "execution_count": 64,
   "id": "638dbb6b",
   "metadata": {},
   "outputs": [
    {
     "name": "stdout",
     "output_type": "stream",
     "text": [
      "              precision    recall  f1-score   support\n",
      "\n",
      "         bad       0.96      0.84      0.90       346\n",
      "        good       0.43      0.80      0.56        54\n",
      "\n",
      "    accuracy                           0.83       400\n",
      "   macro avg       0.70      0.82      0.73       400\n",
      "weighted avg       0.89      0.83      0.85       400\n",
      "\n"
     ]
    },
    {
     "data": {
      "image/png": "[encoded data removed]",
      "text/plain": [
       "<Figure size 432x288 with 2 Axes>"
      ]
     },
     "metadata": {
      "needs_background": "light"
     },
     "output_type": "display_data"
    }
   ],
   "source": [
    "svc = SVC()\n",
    "svc.fit(X_train_sm, y_train_sm)\n",
    "pred_svc = svc.predict(X_test)\n",
    "print(classification_report(y_test, pred_svc))\n",
    "\n",
    "plot_confusion_matrix(svc, X_test, y_test, cmap= \"Greens\")  \n",
    "plt.show()"
   ]
  },
  {
   "cell_type": "markdown",
   "id": "557ccef0",
   "metadata": {},
   "source": [
    "The result obtained using the Support vector classifier is very similar to the random forest. However, in this case there are more False positive (56 observations) than True positive (43 observations)."
   ]
  },
  {
   "cell_type": "code",
   "execution_count": 65,
   "id": "bfed243c",
   "metadata": {},
   "outputs": [
    {
     "data": {
      "text/plain": [
       "SVC(C=2.6826957952797246, gamma=1.0)"
      ]
     },
     "execution_count": 65,
     "metadata": {},
     "output_type": "execute_result"
    }
   ],
   "source": [
    "svc = make_pipeline(\n",
    "  StandardScaler(),\n",
    "  GridSearchCV(\n",
    "    estimator=SVC(kernel=\"rbf\"),\n",
    "    param_grid={\n",
    "      \"C\": np.logspace(-3, 3, 15),\n",
    "      \"gamma\": np.logspace(-3,3,15)\n",
    "    },\n",
    "    cv=kfold,\n",
    "    scoring = 'f1_micro',\n",
    "    n_jobs=4\n",
    "  )\n",
    ")\n",
    "\n",
    "svc.fit(X_train_sm, y_train_sm)\n",
    "\n",
    "svc[1].best_estimator_"
   ]
  },
  {
   "cell_type": "markdown",
   "id": "5924ecca",
   "metadata": {},
   "source": [
    "The parameter tuning found that the optimal value for C is 2.7 and the gamma 1.0. The will be applied to the k-fold cross validation and all models compared on F1 scores. "
   ]
  },
  {
   "cell_type": "markdown",
   "id": "bca5e8b6",
   "metadata": {},
   "source": [
    "## Training the Model with K-Fold Cross Validation"
   ]
  },
  {
   "cell_type": "code",
   "execution_count": 66,
   "id": "bd6bbe77",
   "metadata": {},
   "outputs": [],
   "source": [
    "models = [\n",
    "    {\n",
    "        'name': 'Multinomial Logistic Regression',\n",
    "        'model': LogisticRegression(multi_class='multinomial', solver='lbfgs', max_iter = 1000, random_state=0),\n",
    "        'params': {\n",
    "            'C': np.logspace(-3, 0, 25)\n",
    "        }\n",
    "    },\n",
    "    {\n",
    "        'name' : 'Decision Tree Classifier',\n",
    "        'model' : DecisionTreeClassifier(random_state=0),\n",
    "        'params' : {\n",
    "            'max_depth' : [8,16,24,32]\n",
    "        }\n",
    "    },\n",
    "    {\n",
    "        'name': 'Random Forest',\n",
    "        'model': RandomForestClassifier(random_state=0),\n",
    "        'params': {\n",
    "            'n_estimators': [20, 50, 100, 200, 400]\n",
    "        }\n",
    "    },\n",
    "    {\n",
    "        'name': 'SVC',\n",
    "        'model': SVC(random_state=0,\n",
    "                     C=2.7, \n",
    "                     kernel='rbf', \n",
    "                     degree=3,\n",
    "                     gamma=1),\n",
    "        'params': {\n",
    "        }\n",
    "    }\n",
    "]"
   ]
  },
  {
   "cell_type": "code",
   "execution_count": 67,
   "id": "c7ca63a9",
   "metadata": {},
   "outputs": [],
   "source": [
    "kfold = KFold(n_splits=10, shuffle=True, random_state=0)\n",
    "\n",
    "for m in models:\n",
    "    pipeline = make_pipeline(\n",
    "        StandardScaler(),\n",
    "        GridSearchCV(\n",
    "            estimator=m['model'],\n",
    "            param_grid=m['params'],\n",
    "            scoring='f1_micro',\n",
    "            n_jobs=-1,\n",
    "            cv=kfold\n",
    "        )\n",
    "    )\n",
    "    pipeline.fit(X_train_sm, y_train_sm)\n",
    "    predictions = pipeline.predict(X_test)\n",
    "    m['score'] = f1_score(y_test, predictions, average='micro')\n",
    "    m['pipeline'] = pipeline"
   ]
  },
  {
   "cell_type": "code",
   "execution_count": 68,
   "id": "dee4185e",
   "metadata": {},
   "outputs": [
    {
     "name": "stdout",
     "output_type": "stream",
     "text": [
      "The F1 scores of the models are provided found through K-Vold Validation\n",
      "Model: Multinomial Logistic Regression: score = 0.773\n",
      "Model: Decision Tree Classifier: score = 0.853\n",
      "Model: Random Forest: score = 0.880\n",
      "Model: SVC: score = 0.902\n"
     ]
    }
   ],
   "source": [
    "print('The F1 scores of the models are provided found through K-Vold Validation')\n",
    "\n",
    "for m in models:\n",
    "    print(f\"Model: {m['name']}: score = {m['score']:.3f}\")"
   ]
  },
  {
   "cell_type": "code",
   "execution_count": 69,
   "id": "f51518d4",
   "metadata": {},
   "outputs": [
    {
     "data": {
      "text/html": [
       "<div>\n",
       "<style scoped>\n",
       "    .dataframe tbody tr th:only-of-type {\n",
       "        vertical-align: middle;\n",
       "    }\n",
       "\n",
       "    .dataframe tbody tr th {\n",
       "        vertical-align: top;\n",
       "    }\n",
       "\n",
       "    .dataframe thead th {\n",
       "        text-align: right;\n",
       "    }\n",
       "</style>\n",
       "<table border=\"1\" class=\"dataframe\">\n",
       "  <thead>\n",
       "    <tr style=\"text-align: right;\">\n",
       "      <th></th>\n",
       "      <th>Model</th>\n",
       "      <th>Score</th>\n",
       "    </tr>\n",
       "  </thead>\n",
       "  <tbody>\n",
       "    <tr>\n",
       "      <th>3</th>\n",
       "      <td>SVC</td>\n",
       "      <td>0.902</td>\n",
       "    </tr>\n",
       "    <tr>\n",
       "      <th>2</th>\n",
       "      <td>Random Forest</td>\n",
       "      <td>0.880</td>\n",
       "    </tr>\n",
       "    <tr>\n",
       "      <th>1</th>\n",
       "      <td>Decision Tree Classifier</td>\n",
       "      <td>0.853</td>\n",
       "    </tr>\n",
       "    <tr>\n",
       "      <th>0</th>\n",
       "      <td>Multinomial Logistic Regression</td>\n",
       "      <td>0.773</td>\n",
       "    </tr>\n",
       "  </tbody>\n",
       "</table>\n",
       "</div>"
      ],
      "text/plain": [
       "                             Model  Score\n",
       "3                              SVC  0.902\n",
       "2                    Random Forest  0.880\n",
       "1         Decision Tree Classifier  0.853\n",
       "0  Multinomial Logistic Regression  0.773"
      ]
     },
     "execution_count": 69,
     "metadata": {},
     "output_type": "execute_result"
    }
   ],
   "source": [
    "models = pd.DataFrame({\n",
    "    'Model' : ['Multinomial Logistic Regression', 'Decision Tree Classifier', 'Random Forest', 'SVC'],\n",
    "    'Score' : [0.773, 0.853, 0.880, 0.902]\n",
    "    })\n",
    "\n",
    "models.sort_values(by = 'Score', ascending = False)"
   ]
  },
  {
   "cell_type": "code",
   "execution_count": 70,
   "id": "f5660564",
   "metadata": {},
   "outputs": [
    {
     "data": {
      "image/png": "[encoded data removed]",
      "text/plain": [
       "<Figure size 1440x576 with 1 Axes>"
      ]
     },
     "metadata": {
      "needs_background": "light"
     },
     "output_type": "display_data"
    }
   ],
   "source": [
    "plt.figure(figsize = (20, 8))\n",
    "\n",
    "sns.barplot(x = 'Model', y = 'Score', data = models)\n",
    "plt.ylim(0.45, 0.95)\n",
    "plt.show()"
   ]
  },
  {
   "cell_type": "markdown",
   "id": "3971a332",
   "metadata": {},
   "source": [
    "### Classification report\n",
    "\n",
    "Again we select the model with the highest F1 scores. In this case it is the support vector classification model with an score of 90.3%."
   ]
  },
  {
   "cell_type": "markdown",
   "id": "c84e2da7",
   "metadata": {},
   "source": [
    "### Winner = SVC"
   ]
  },
  {
   "cell_type": "code",
   "execution_count": 71,
   "id": "50ca89df",
   "metadata": {},
   "outputs": [
    {
     "data": {
      "text/plain": [
       "0.9025"
      ]
     },
     "execution_count": 71,
     "metadata": {},
     "output_type": "execute_result"
    }
   ],
   "source": [
    "winner = SVC(random_state=0, C=2.7, kernel='rbf', degree=3, gamma=1)\n",
    "winner.fit(X_train_sm, y_train_sm)\n",
    "f1_score(y_test, winner.predict(X_test), average='micro')"
   ]
  },
  {
   "cell_type": "code",
   "execution_count": 72,
   "id": "455c3ee4",
   "metadata": {},
   "outputs": [
    {
     "name": "stdout",
     "output_type": "stream",
     "text": [
      "              precision    recall  f1-score   support\n",
      "\n",
      "         bad       0.96      0.84      0.90       346\n",
      "        good       0.43      0.80      0.56        54\n",
      "\n",
      "    accuracy                           0.83       400\n",
      "   macro avg       0.70      0.82      0.73       400\n",
      "weighted avg       0.89      0.83      0.85       400\n",
      "\n"
     ]
    },
    {
     "data": {
      "image/png": "[encoded data removed]",
      "text/plain": [
       "<Figure size 432x288 with 2 Axes>"
      ]
     },
     "metadata": {
      "needs_background": "light"
     },
     "output_type": "display_data"
    }
   ],
   "source": [
    "svc = SVC()\n",
    "svc.fit(X_train_sm, y_train_sm)\n",
    "pred_svc = svc.predict(X_test)\n",
    "print(classification_report(y_test, pred_svc))\n",
    "\n",
    "plot_confusion_matrix(svc, X_test, y_test, cmap= \"Greens\")  \n",
    "plt.show()"
   ]
  },
  {
   "cell_type": "markdown",
   "id": "2b59a0dd",
   "metadata": {},
   "source": [
    "Nevertheless, again the bad qualities have a nearly perfect precision. However, the model predicted more false positives than true positives. The precision for good qualities is only 43%. Therefore, if our objective is to correctly be able to identify good wines, this isn't giving us the results that we were aiming for. In the table below, the predictions and the true test values are displayed. We can see that most variables are predicted as being bad. "
   ]
  },
  {
   "cell_type": "code",
   "execution_count": 73,
   "id": "3b3fd7d3",
   "metadata": {},
   "outputs": [
    {
     "data": {
      "text/html": [
       "<div>\n",
       "<style scoped>\n",
       "    .dataframe tbody tr th:only-of-type {\n",
       "        vertical-align: middle;\n",
       "    }\n",
       "\n",
       "    .dataframe tbody tr th {\n",
       "        vertical-align: top;\n",
       "    }\n",
       "\n",
       "    .dataframe thead th {\n",
       "        text-align: right;\n",
       "    }\n",
       "</style>\n",
       "<table border=\"1\" class=\"dataframe\">\n",
       "  <thead>\n",
       "    <tr style=\"text-align: right;\">\n",
       "      <th></th>\n",
       "      <th>y_test</th>\n",
       "      <th>y_pred</th>\n",
       "      <th>correct</th>\n",
       "    </tr>\n",
       "  </thead>\n",
       "  <tbody>\n",
       "    <tr>\n",
       "      <th>0</th>\n",
       "      <td>bad</td>\n",
       "      <td>bad</td>\n",
       "      <td>True</td>\n",
       "    </tr>\n",
       "    <tr>\n",
       "      <th>1</th>\n",
       "      <td>bad</td>\n",
       "      <td>bad</td>\n",
       "      <td>True</td>\n",
       "    </tr>\n",
       "    <tr>\n",
       "      <th>2</th>\n",
       "      <td>bad</td>\n",
       "      <td>bad</td>\n",
       "      <td>True</td>\n",
       "    </tr>\n",
       "    <tr>\n",
       "      <th>3</th>\n",
       "      <td>bad</td>\n",
       "      <td>bad</td>\n",
       "      <td>True</td>\n",
       "    </tr>\n",
       "    <tr>\n",
       "      <th>4</th>\n",
       "      <td>bad</td>\n",
       "      <td>bad</td>\n",
       "      <td>True</td>\n",
       "    </tr>\n",
       "    <tr>\n",
       "      <th>...</th>\n",
       "      <td>...</td>\n",
       "      <td>...</td>\n",
       "      <td>...</td>\n",
       "    </tr>\n",
       "    <tr>\n",
       "      <th>395</th>\n",
       "      <td>good</td>\n",
       "      <td>good</td>\n",
       "      <td>True</td>\n",
       "    </tr>\n",
       "    <tr>\n",
       "      <th>396</th>\n",
       "      <td>bad</td>\n",
       "      <td>bad</td>\n",
       "      <td>True</td>\n",
       "    </tr>\n",
       "    <tr>\n",
       "      <th>397</th>\n",
       "      <td>bad</td>\n",
       "      <td>bad</td>\n",
       "      <td>True</td>\n",
       "    </tr>\n",
       "    <tr>\n",
       "      <th>398</th>\n",
       "      <td>bad</td>\n",
       "      <td>bad</td>\n",
       "      <td>True</td>\n",
       "    </tr>\n",
       "    <tr>\n",
       "      <th>399</th>\n",
       "      <td>bad</td>\n",
       "      <td>bad</td>\n",
       "      <td>True</td>\n",
       "    </tr>\n",
       "  </tbody>\n",
       "</table>\n",
       "<p>400 rows × 3 columns</p>\n",
       "</div>"
      ],
      "text/plain": [
       "    y_test y_pred  correct\n",
       "0      bad    bad     True\n",
       "1      bad    bad     True\n",
       "2      bad    bad     True\n",
       "3      bad    bad     True\n",
       "4      bad    bad     True\n",
       "..     ...    ...      ...\n",
       "395   good   good     True\n",
       "396    bad    bad     True\n",
       "397    bad    bad     True\n",
       "398    bad    bad     True\n",
       "399    bad    bad     True\n",
       "\n",
       "[400 rows x 3 columns]"
      ]
     },
     "execution_count": 73,
     "metadata": {},
     "output_type": "execute_result"
    }
   ],
   "source": [
    "y_pred=winner.predict(X_test)\n",
    "\n",
    "A=np.array(y_test)\n",
    "B=np.array(y_pred)\n",
    "C=np.array(y_test == y_pred)\n",
    "dataset = pd.DataFrame({'y_test': A, 'y_pred': B, 'correct' : C}, columns=['y_test', 'y_pred', 'correct'])\n",
    "dataset"
   ]
  },
  {
   "cell_type": "markdown",
   "id": "80573346",
   "metadata": {},
   "source": [
    "## Threshold quality > 5.9\n",
    "\n",
    "Therefore, the same procedure has been carried out as before but now considering that a wine is good if it is 6 or above and bad if it is below 6."
   ]
  },
  {
   "cell_type": "code",
   "execution_count": 74,
   "id": "04df328d",
   "metadata": {},
   "outputs": [
    {
     "data": {
      "text/plain": [
       "19188"
      ]
     },
     "execution_count": 74,
     "metadata": {},
     "output_type": "execute_result"
    }
   ],
   "source": [
    "redwine = pd.read_csv('winequality-red.csv', sep=\";\")\n",
    "# Making binary classification for the response variable.\n",
    "# Dividing wine as good and bad by giving the limit for the quality\n",
    "bins = (2, 5.9, 8)\n",
    "class_names = ['bad', 'good']\n",
    "redwine['quality'] = pd.cut(redwine['quality'], bins = bins, labels = class_names)\n",
    "redwine.size"
   ]
  },
  {
   "cell_type": "code",
   "execution_count": 75,
   "id": "56c4da25",
   "metadata": {},
   "outputs": [],
   "source": [
    "label = 'quality'\n",
    "features = [column for column in redwine.columns if column != label]\n",
    "\n",
    "X = redwine[features]\n",
    "y = redwine[label]\n",
    "\n",
    "X_train, X_test, y_train, y_test = train_test_split(X, y, test_size=0.25, random_state=206, stratify=y)"
   ]
  },
  {
   "cell_type": "code",
   "execution_count": 76,
   "id": "affc3e32",
   "metadata": {},
   "outputs": [
    {
     "name": "stdout",
     "output_type": "stream",
     "text": [
      "Training size: 13189, Testing size: 4400\n"
     ]
    }
   ],
   "source": [
    "print('Training size: {}, Testing size: {}'.format(X_train.size,X_test.size))"
   ]
  },
  {
   "cell_type": "code",
   "execution_count": 77,
   "id": "c7ff5c54",
   "metadata": {},
   "outputs": [],
   "source": [
    "label_quality = LabelEncoder()\n",
    "\n",
    "#Bad becomes 0 and good becomes 1 \n",
    "redwine['quality'] = label_quality.fit_transform(redwine['quality'])"
   ]
  },
  {
   "cell_type": "code",
   "execution_count": 78,
   "id": "e929570f",
   "metadata": {},
   "outputs": [
    {
     "data": {
      "text/plain": [
       "<AxesSubplot:xlabel='quality', ylabel='count'>"
      ]
     },
     "execution_count": 78,
     "metadata": {},
     "output_type": "execute_result"
    },
    {
     "data": {
      "image/png": "[encoded data removed]",
      "text/plain": [
       "<Figure size 432x288 with 1 Axes>"
      ]
     },
     "metadata": {
      "needs_background": "light"
     },
     "output_type": "display_data"
    }
   ],
   "source": [
    "sns.countplot(redwine['quality'])"
   ]
  },
  {
   "cell_type": "code",
   "execution_count": 79,
   "id": "014dab4a",
   "metadata": {},
   "outputs": [],
   "source": [
    "#!pip install imblearn\n",
    "sm = SMOTE(random_state=14)\n",
    "X_train_sm, y_train_sm = sm.fit_resample(X_train, y_train)"
   ]
  },
  {
   "cell_type": "code",
   "execution_count": 80,
   "id": "53fd102b",
   "metadata": {},
   "outputs": [
    {
     "name": "stdout",
     "output_type": "stream",
     "text": [
      "Before smote -->  Counter({'good': 641, 'bad': 558})\n",
      "After smote -->  Counter({'good': 641, 'bad': 641})\n"
     ]
    }
   ],
   "source": [
    "print(\"Before smote --> \", collections.Counter(y_train))\n",
    "print(\"After smote --> \", collections.Counter(y_train_sm))"
   ]
  },
  {
   "cell_type": "code",
   "execution_count": 81,
   "id": "f5b638f5",
   "metadata": {},
   "outputs": [],
   "source": [
    "scaler = StandardScaler()\n",
    "X_train_sm = scaler.fit_transform(X_train_sm) \n",
    "X_test = scaler.transform(X_test) \n",
    "\n",
    "results = []"
   ]
  },
  {
   "cell_type": "markdown",
   "id": "4121d0f4",
   "metadata": {},
   "source": [
    "### Random forest classifier\n",
    "\n",
    "Again random forest is used the evaluate results of accuracy by using the holdout method. "
   ]
  },
  {
   "cell_type": "code",
   "execution_count": 82,
   "id": "d88256fb",
   "metadata": {},
   "outputs": [
    {
     "name": "stdout",
     "output_type": "stream",
     "text": [
      "              precision    recall  f1-score   support\n",
      "\n",
      "         bad       0.75      0.81      0.78       186\n",
      "        good       0.82      0.76      0.79       214\n",
      "\n",
      "    accuracy                           0.78       400\n",
      "   macro avg       0.78      0.78      0.78       400\n",
      "weighted avg       0.79      0.78      0.78       400\n",
      "\n",
      "<sklearn.metrics._plot.confusion_matrix.ConfusionMatrixDisplay object at 0x7fb2d8653460>\n"
     ]
    },
    {
     "data": {
      "image/png": "[encoded data removed]",
      "text/plain": [
       "<Figure size 432x288 with 2 Axes>"
      ]
     },
     "metadata": {
      "needs_background": "light"
     },
     "output_type": "display_data"
    }
   ],
   "source": [
    "rfc = RandomForestClassifier(n_estimators=200)\n",
    "rfc.fit(X_train_sm, y_train_sm)\n",
    "pred_rfc = rfc.predict(X_test)\n",
    "print(classification_report(y_test, pred_rfc, zero_division=1))\n",
    "print(plot_confusion_matrix(rfc, X_test, y_test, cmap=\"Greens\"))"
   ]
  },
  {
   "cell_type": "markdown",
   "id": "f0198e9c",
   "metadata": {},
   "source": [
    "Analysing the results again, we see that there are 152 True Negatives and 162 True Positives. Moreover, it only classifies 34 wines as good when they are not and 52 wines as bad when in reality they are good.  So, making this division we are able to classify a good and bad wine. In this case the accuracy is 79%. These results seem worse than the previous ones. However, now both precision and recall for each value is optimized. In this case, 233 observations, which means 120 less correctly classified observations than before. As a contrast, now we are able to predict correcly both types. The difference between these results makes us realise how important it is to define what is a good wine for us and what is not.  "
   ]
  },
  {
   "cell_type": "markdown",
   "id": "ca832d13",
   "metadata": {},
   "source": [
    "### Parameter tuning\n",
    "\n",
    "### Support vector classification\n",
    "\n",
    "Next parameter tuning is applied without cross validation in order to find the best parameters and kernal state. These are then applied to the k-fold cross validation model and the best model chosen. "
   ]
  },
  {
   "cell_type": "code",
   "execution_count": 83,
   "id": "67bb102e",
   "metadata": {},
   "outputs": [
    {
     "data": {
      "text/plain": [
       "SVC(C=1.438449888287663, gamma=1.0)"
      ]
     },
     "execution_count": 83,
     "metadata": {},
     "output_type": "execute_result"
    }
   ],
   "source": [
    "svc = make_pipeline(\n",
    "  StandardScaler(),\n",
    "  GridSearchCV(\n",
    "    estimator=SVC(kernel=\"rbf\"),\n",
    "    param_grid={\n",
    "      \"C\": np.logspace(-3, 3, 20),\n",
    "      \"gamma\": np.logspace(-3,3,15)\n",
    "    },\n",
    "    cv=kfold,\n",
    "    scoring = 'f1_micro',\n",
    "    n_jobs=4\n",
    "  )\n",
    ")\n",
    "\n",
    "svc.fit(X_train_sm, y_train_sm)\n",
    "\n",
    "svc[1].best_estimator_"
   ]
  },
  {
   "cell_type": "markdown",
   "id": "bde19277",
   "metadata": {},
   "source": [
    "## Training the Model with K-Fold Cross Validation"
   ]
  },
  {
   "cell_type": "code",
   "execution_count": 84,
   "id": "979a62b5",
   "metadata": {},
   "outputs": [],
   "source": [
    "models = [\n",
    "    {\n",
    "        'name': 'Multinomial Logistic Regression',\n",
    "        'model': LogisticRegression(multi_class='multinomial', solver='lbfgs', max_iter = 1000, random_state=0),\n",
    "        'params': {\n",
    "            'C': np.logspace(-3, 0, 25)\n",
    "        }\n",
    "    },\n",
    "    {\n",
    "        'name' : 'Decision Tree Classifier',\n",
    "        'model' : DecisionTreeClassifier(random_state=0),\n",
    "        'params' : {\n",
    "            'max_depth' : [8,16,24,32]\n",
    "        }\n",
    "    },\n",
    "    {\n",
    "        'name': 'Random Forest',\n",
    "        'model': RandomForestClassifier(random_state=0),\n",
    "        'params': {\n",
    "            'n_estimators': [20, 50, 100, 200, 400]\n",
    "        }\n",
    "    },\n",
    "    {\n",
    "        'name': 'SVC',\n",
    "        'model': SVC(random_state=0,\n",
    "                     C=1.4, \n",
    "                     kernel='rbf', \n",
    "                     degree=3,\n",
    "                     gamma=1.0),\n",
    "        'params': {\n",
    "        }\n",
    "    }\n",
    "]"
   ]
  },
  {
   "cell_type": "code",
   "execution_count": 85,
   "id": "71b5eaae",
   "metadata": {},
   "outputs": [],
   "source": [
    "kfold = KFold(n_splits=10, shuffle=True, random_state=0)\n",
    "\n",
    "for m in models:\n",
    "    pipeline = make_pipeline(\n",
    "        StandardScaler(),\n",
    "        GridSearchCV(\n",
    "            estimator=m['model'],\n",
    "            param_grid=m['params'],\n",
    "            scoring='f1_micro',\n",
    "            n_jobs=-1,\n",
    "            cv=kfold\n",
    "        )\n",
    "    )\n",
    "    pipeline.fit(X_train_sm, y_train_sm)\n",
    "    predictions = pipeline.predict(X_test)\n",
    "    m['score'] = f1_score(y_test, predictions, average='micro')\n",
    "    m['pipeline'] = pipeline"
   ]
  },
  {
   "cell_type": "code",
   "execution_count": 86,
   "id": "20b0ce22",
   "metadata": {},
   "outputs": [
    {
     "name": "stdout",
     "output_type": "stream",
     "text": [
      "The F1 scores of the models are provided found through K-Vold Validation\n",
      "Model: Multinomial Logistic Regression: score = 0.718\n",
      "Model: Decision Tree Classifier: score = 0.733\n",
      "Model: Random Forest: score = 0.790\n",
      "Model: SVC: score = 0.777\n"
     ]
    }
   ],
   "source": [
    "print('The F1 scores of the models are provided found through K-Vold Validation')\n",
    "\n",
    "for m in models:\n",
    "    print(f\"Model: {m['name']}: score = {m['score']:.3f}\")"
   ]
  },
  {
   "cell_type": "code",
   "execution_count": 87,
   "id": "7ed8ebe6",
   "metadata": {},
   "outputs": [
    {
     "data": {
      "text/html": [
       "<div>\n",
       "<style scoped>\n",
       "    .dataframe tbody tr th:only-of-type {\n",
       "        vertical-align: middle;\n",
       "    }\n",
       "\n",
       "    .dataframe tbody tr th {\n",
       "        vertical-align: top;\n",
       "    }\n",
       "\n",
       "    .dataframe thead th {\n",
       "        text-align: right;\n",
       "    }\n",
       "</style>\n",
       "<table border=\"1\" class=\"dataframe\">\n",
       "  <thead>\n",
       "    <tr style=\"text-align: right;\">\n",
       "      <th></th>\n",
       "      <th>Model</th>\n",
       "      <th>Score</th>\n",
       "    </tr>\n",
       "  </thead>\n",
       "  <tbody>\n",
       "    <tr>\n",
       "      <th>2</th>\n",
       "      <td>Random Forest</td>\n",
       "      <td>0.790</td>\n",
       "    </tr>\n",
       "    <tr>\n",
       "      <th>3</th>\n",
       "      <td>SVC</td>\n",
       "      <td>0.777</td>\n",
       "    </tr>\n",
       "    <tr>\n",
       "      <th>1</th>\n",
       "      <td>Decision Tree Classifier</td>\n",
       "      <td>0.733</td>\n",
       "    </tr>\n",
       "    <tr>\n",
       "      <th>0</th>\n",
       "      <td>Multinomial Logistic Regression</td>\n",
       "      <td>0.718</td>\n",
       "    </tr>\n",
       "  </tbody>\n",
       "</table>\n",
       "</div>"
      ],
      "text/plain": [
       "                             Model  Score\n",
       "2                    Random Forest  0.790\n",
       "3                              SVC  0.777\n",
       "1         Decision Tree Classifier  0.733\n",
       "0  Multinomial Logistic Regression  0.718"
      ]
     },
     "execution_count": 87,
     "metadata": {},
     "output_type": "execute_result"
    }
   ],
   "source": [
    "models = pd.DataFrame({\n",
    "    'Model' : ['Multinomial Logistic Regression', 'Decision Tree Classifier', 'Random Forest', 'SVC'],\n",
    "    'Score' : [0.718, 0.733, 0.790, 0.777]\n",
    "    })\n",
    "\n",
    "models.sort_values(by = 'Score', ascending = False)"
   ]
  },
  {
   "cell_type": "code",
   "execution_count": 88,
   "id": "d0c4a7ef",
   "metadata": {},
   "outputs": [
    {
     "data": {
      "image/png": "[encoded data removed]",
      "text/plain": [
       "<Figure size 1440x576 with 1 Axes>"
      ]
     },
     "metadata": {
      "needs_background": "light"
     },
     "output_type": "display_data"
    }
   ],
   "source": [
    "plt.figure(figsize = (20, 8))\n",
    "\n",
    "sns.barplot(x = 'Model', y = 'Score', data = models)\n",
    "plt.ylim(0.45, 0.95)\n",
    "plt.show()"
   ]
  },
  {
   "cell_type": "markdown",
   "id": "215b454d",
   "metadata": {},
   "source": [
    "Throughout this method, random forest provides the best F1 Score. Therefore, the model is retrained on the entire data set to prepare for production."
   ]
  },
  {
   "cell_type": "markdown",
   "id": "854097ab",
   "metadata": {},
   "source": [
    "### Winner = Random Forest"
   ]
  },
  {
   "cell_type": "code",
   "execution_count": 89,
   "id": "4ec2d7a2",
   "metadata": {},
   "outputs": [
    {
     "data": {
      "text/plain": [
       "RandomForestClassifier(bootstrap=False, max_depth=10, min_samples_leaf=4,\n",
       "                       min_samples_split=5, n_estimators=600, random_state=42)"
      ]
     },
     "execution_count": 89,
     "metadata": {},
     "output_type": "execute_result"
    }
   ],
   "source": [
    "#Retrain on the entire data set\n",
    "winner = RandomForestClassifier(random_state=42, n_estimators=600, min_samples_split=5, min_samples_leaf=4, max_features='auto', max_depth=10, bootstrap=False)\n",
    "winner.fit(X, y)"
   ]
  },
  {
   "cell_type": "markdown",
   "id": "75a30678",
   "metadata": {},
   "source": [
    "The choice of running two different classifications, one for a bad wine treshold of 6 and the other for a bad wine treshold of 6.5 is done to highlight two different scanarios. Then, the F1 score, that simultaneously captures the precision and the recall of the model and thus is a measure of accuracy, and the confusion matrices are compared.  \n",
    "\n",
    "With a treshold = 6, the F1 score of the model, provided by the random forest, averages 0.79. As the F1 scores ranges between 0 and 1, being 1 the \"perfect\" model, the accuracy of the model is good. This is due to precision and recall, both varying between 0.74 and 0.75.\n",
    "\n",
    "With a treshhold = 6.5, instead, the F1 score, provided by the SVC model, largely increases reaching an average value of 0.90. Thus, the accuracy of the model is significantly better than in the case of a treshold of 6. However, the model is much better at predicting bad quality than good quality wine. Indeed, the precision of bad wine equals 0.96, while the one of good wine only reaches 0.43. Instead, the recall is higher in both cases, with good or bad quality. \n",
    "\n",
    "Intuitively, as mentioned already, in the case of a 6.5 treshold, the data are much more unbalanced (more bad quality wines) than in the case of a treshold of 6, and we need a model that is good at predicting the minority of good wine. Thus, a treshold of 6 seems more appropriate."
   ]
  },
  {
   "cell_type": "markdown",
   "id": "8c87e120",
   "metadata": {},
   "source": [
    "## Conclusion\n",
    "\n",
    "The conclusion derived from the above analysis is that there is such a thing as a good and a bad wine. There are distinctive differences between bottles of wine depending on its physicochemical characteristics. The main drivers of variance are alcohol percentage and volatile acidity. Based on these objective attributes we can predict wine quality with an accuracy of 69-90%. The scoring is based on rates given by experts in a blind trial. Therefore, this would additionally mean that the experts are able to predict substantially well the quality of red wine. \n",
    "\n",
    "When treating the scoring as discrete variables and performing a multi-class classification model, we found that the random forest method is the best. Throughout the regression approach, we found that the quadratic lasso model performed the best. Trading bias-variance and using the knowledge obtained throughout the course, we feel that the binary classification model wiht theshold 6 is the most appropriate model, obtaining an F1 accuracy score of 79%.\n",
    "\n",
    "As an outlook for future research, we would consider using a second data set associated with white wine to find similarities and differences in the discovery of variables that present importance for the quality of a wine. It could be the case that variables that are considered for separating a good from a bad red wine, do not have any influence or effect on the quality prediction of white wine. "
   ]
  },
  {
   "cell_type": "markdown",
   "id": "b49ec6c8",
   "metadata": {},
   "source": [
    "# References"
   ]
  },
  {
   "cell_type": "markdown",
   "id": "22fa626a",
   "metadata": {},
   "source": [
    "Admin. (2021, February 21). How Acidity Plays an Important Role in Wine Quality. Grapeworks - Tanium Machinery. Retrieved June 8, 2021, from https://grapeworks.com.au/news/winemaking/how-acidity-plays-an-important-role-in-wine-quality/\n",
    "\n",
    "D. (2017, October 29). Red and White Wine Quality. Kaggle. Retrieved June 9, 2021, from https://www.kaggle.com/danielpanizzo/red-and-white-wine-quality\n",
    "\n",
    "Is Wine Acidic? Wine Acid Answers and Low Acid Wines. (n.d.). Binwise. Retrieved June 8, 2021, from https://home.binwise.com/blog/is-wine-acidic\n",
    "\n",
    "A Detailed Explanation of Acids Used in Wine Making. (n.d.). HomeBrewIt.Com. Retrieved June 8, 2021, from https://www.homebrewit.com/pages/a-detailed-explanation-of-acids-used-in-wine-making\n",
    "\n",
    "Total Sulfur Dioxide - Why it Matters, Too! (n.d.). Midwest Grape and Wine Industry Institute. Retrieved June 8, 2021, from https://www.extension.iastate.edu/wine/total-sulfur-dioxide-why-it-matters-too\n",
    "\n",
    "Wine acidity and crispness. (n.d.). Total Wine and More. Retrieved June 8, 2021, from https://www.totalwine.com/wine-guide/wine-acidity-crispness\n",
    "\n",
    "Volatile Acidity. (2019, March 18). Waterhouse Lab. Retrieved June 8, 2021, from https://waterhouse.ucdavis.edu/whats-in-wine/volatile-acidity\n",
    "\n",
    "Frazier, K. (n.d.). Interesting Facts About Sugar Content in Wine. LoveToKnow. Retrieved June 8, 2021, from https://wine.lovetoknow.com/wiki/Sugar_Content_in_Wine\n",
    "\n",
    "Measuring Residual Sugar. (2018, August 6). WineMakerMag.Com. https://winemakermag.com/technique/501-measuring-residual-sugar-techniques\n",
    "\n",
    "Alcohol content in red wines. (n.d.). Wine Companion. Retrieved June 9, 2021, from https://www.winecompanion.com.au/resources/wine-tasting/alcohol-content-in-red-wines\n",
    "\n",
    "Bjarnadottir, M. A. S. (2017, June 4). Red Wine: Good or Bad? Healthline. https://www.healthline.com/nutrition/red-wine-good-or-bad#TOC_TITLE_HDR_3\n",
    "\n",
    "Jennings, M. K. S. (2017, February 17). Red Wine vs White Wine: Which Is Healthier? Healthline. https://www.healthline.com/nutrition/red-vs-white-wine\n",
    "\n",
    "Ho, T. K. (2002). A data complexity analysis of comparative advantages of decision forest constructors. Pattern Analysis & Applications, 5(2), 102-112."
   ]
  }
 ],
 "metadata": {
  "kernelspec": {
   "display_name": "Python 3",
   "language": "python",
   "name": "python3"
  },
  "language_info": {
   "codemirror_mode": {
    "name": "ipython",
    "version": 3
   },
   "file_extension": ".py",
   "mimetype": "text/x-python",
   "name": "python",
   "nbconvert_exporter": "python",
   "pygments_lexer": "ipython3",
   "version": "3.8.5"
  }
 },
 "nbformat": 4,
 "nbformat_minor": 5
}
